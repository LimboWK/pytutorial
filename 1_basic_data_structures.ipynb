{
 "cells": [
  {
   "cell_type": "markdown",
   "id": "8ee45cb7-84c8-456f-b393-b6a6923af19f",
   "metadata": {},
   "source": [
    "# 本篇介绍python基础的复合数据结构"
   ]
  },
  {
   "cell_type": "code",
   "execution_count": 24,
   "id": "9b4d93f2-02bc-4d85-9cd2-8c18ab02c083",
   "metadata": {},
   "outputs": [
    {
     "name": "stdout",
     "output_type": "stream",
     "text": [
      "3\n",
      "[1, 2, 'Apple', 'Banana']\n",
      "Apple\n"
     ]
    }
   ],
   "source": [
    "# list用[]定义，元素有顺序，所以可以用index访问，长度可变，元素可变，元素可不为同一数据类型.\n",
    "lst = [1,2,\"Apple\"]\n",
    "print(len(lst))\n",
    "lst.append(\"Banana\")\n",
    "print(lst)\n",
    "print(lst[2])"
   ]
  },
  {
   "cell_type": "code",
   "execution_count": 25,
   "id": "d0dc4b43-e761-40d5-8bbc-8d3adac39cbe",
   "metadata": {},
   "outputs": [
    {
     "name": "stdout",
     "output_type": "stream",
     "text": [
      "3\n",
      "tuple is not changable.\n",
      "(1, 2, 'Apple')\n",
      "Apple\n"
     ]
    }
   ],
   "source": [
    "# tuple用()定义，元素有顺序，所以可以用index访问，长度不可变，元素不可变，元素可不为同一数据类型.--》可理解为一旦声明不可修改的list\n",
    "tup = (1,2,\"Apple\")\n",
    "print(len(tup))\n",
    "try:\n",
    "    tup.append(\"Banana\")\n",
    "except:\n",
    "    print(\"tuple is not changable.\")\n",
    "    \n",
    "print(tup)\n",
    "print(tup[2])"
   ]
  },
  {
   "cell_type": "code",
   "execution_count": 26,
   "id": "9d0351ec-04dd-4f63-8745-eba0ad642131",
   "metadata": {},
   "outputs": [
    {
     "name": "stdout",
     "output_type": "stream",
     "text": [
      "3\n",
      "{1, 2, 'Banana'}\n"
     ]
    }
   ],
   "source": [
    "# set用{}定义，元素无有顺序，所以不可以用index访问，长度可变(add/remove方法)，但由于无法访问元素，自然也无法修改元素 ，元素可不为同一数据类型.\n",
    "st = {1,2,\"Apple\"}\n",
    "print(len(st))\n",
    "st.add(\"Banana\")\n",
    "st.remove(\"Apple\")\n",
    "print(st)"
   ]
  },
  {
   "cell_type": "code",
   "execution_count": 27,
   "id": "a76f632c-d10b-4607-bb4d-f15f7f34232f",
   "metadata": {},
   "outputs": [
    {
     "name": "stdout",
     "output_type": "stream",
     "text": [
      "{1: '1', 'Apple': 'Fruit', (1, 2): 'This is a tuple key'}\n",
      "List can not be used as a key, but tuple can\n"
     ]
    }
   ],
   "source": [
    "# dict（字典）用{key:value}定义，空字典为{}. key不可重复且必须为hashable的对象， value可以时任何python的合法对象，常见的例如数字，字符串\n",
    "# dict 添加元素直接使用dict[key]=value赋值即可。\n",
    "# dict的实现本质是利用hashtable（哈希表）。\n",
    "# hashable意味可以被hash函数（哈希函数）处理的对象，hash函数可以看成一个映射规则，简单理解就是把一个值输入hash函数可以快速得到一个内存位置（不严谨说法）。\n",
    "# hashtable（哈希表）意味用一个hash函数处理许多key：value对，存储在内存里。这样只要给定key，进过hash映射就可以快速找到value，不受表中已有元素的影响。\n",
    "# 所以hashtable可以大大加快检索速度，对于需要遍历大量元素的一些算法非常非常重要。\n",
    "# 而list，或者dict不为hashable 因为其引用可变，所以hash函数的输出结果不唯一，导致无法定位value的地址而失败。而tuple不可修改，所以可作为key。\n",
    "dct = {}\n",
    "dct[1] = \"1\"\n",
    "dct[\"Apple\"] = \"Fruit\"\n",
    "dct[(1,2)] = \"This is a tuple key\"\n",
    "print(dct)\n",
    "try:\n",
    "    dct[[1,2]] = \"This is a list key, which is not possible\"\n",
    "except:\n",
    "    print(\"List can not be used as a key, but tuple can\")"
   ]
  },
  {
   "cell_type": "code",
   "execution_count": 28,
   "id": "e7a5354b-30e5-47df-a94a-d397faeb0981",
   "metadata": {},
   "outputs": [
    {
     "name": "stdout",
     "output_type": "stream",
     "text": [
      "1\n",
      "2\n",
      "Apple\n",
      "Banana\n",
      "1\n",
      "2\n",
      "Apple\n",
      "1\n",
      "2\n",
      "Banana\n"
     ]
    }
   ],
   "source": [
    "# 以上各数据结构都可以被用作循环量，即iterable，被for loop使用, 注意：字典dict的循环默认是循环其key，而非value，\n",
    "for x in lst:\n",
    "    print(x)\n",
    "for x in tup:\n",
    "    print(x)\n",
    "for x in st:\n",
    "    print(x)"
   ]
  },
  {
   "cell_type": "code",
   "execution_count": 29,
   "id": "d0a23dab-b699-469e-a8f2-7b7ee75cd027",
   "metadata": {},
   "outputs": [
    {
     "name": "stdout",
     "output_type": "stream",
     "text": [
      "1\n",
      "Apple\n",
      "(1, 2)\n",
      "(1, '1')\n",
      "('Apple', 'Fruit')\n",
      "((1, 2), 'This is a tuple key')\n"
     ]
    }
   ],
   "source": [
    "# 如果要获取key：value pair，需要items方法，返回结果为一个两个元素的tuple，分别是key和value。“\n",
    "for x in dct:\n",
    "    print(x)\n",
    "for x in dct.items():\n",
    "    print(x)"
   ]
  },
  {
   "cell_type": "code",
   "execution_count": 30,
   "id": "1f25c148-e694-4c2a-9ffa-7e416c5bc498",
   "metadata": {},
   "outputs": [],
   "source": [
    "# 思考题：\n",
    "# 试着熟悉一下这些数据结构的内部函数，例如list的append，pop，dict的items等等。想想这些函数的功能和数据结构的特性有什么关联。"
   ]
  },
  {
   "cell_type": "code",
   "execution_count": null,
   "id": "c8a66e51-4062-45af-9a86-1c60cf9e82eb",
   "metadata": {},
   "outputs": [],
   "source": [
    "# leetcode 练习推荐：\n",
    "# https://leetcode.com/study-plan/data-structure/?progress=y1q88jh"
   ]
  }
 ],
 "metadata": {
  "kernelspec": {
   "display_name": "py3.10_torch",
   "language": "python",
   "name": "py3.10_torch"
  },
  "language_info": {
   "codemirror_mode": {
    "name": "ipython",
    "version": 3
   },
   "file_extension": ".py",
   "mimetype": "text/x-python",
   "name": "python",
   "nbconvert_exporter": "python",
   "pygments_lexer": "ipython3",
   "version": "3.10.5"
  }
 },
 "nbformat": 4,
 "nbformat_minor": 5
}
