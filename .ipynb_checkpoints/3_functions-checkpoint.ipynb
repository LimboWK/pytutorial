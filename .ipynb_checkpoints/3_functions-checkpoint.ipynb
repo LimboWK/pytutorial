{
 "cells": [
  {
   "cell_type": "markdown",
   "id": "aba0d454-ed5a-491b-ba53-ba120ce351f2",
   "metadata": {},
   "source": [
    "# python函数的定义，用法，以及小技巧\n"
   ]
  },
  {
   "cell_type": "markdown",
   "id": "d3fe7f93-995b-4947-ba98-3d621af50241",
   "metadata": {},
   "source": [
    "## 1. 函数的定义\n",
    "    函数是可以重复利用的代码段，掌握函数的用法是进行模块化编程的关键，也是实质上的理解计算机编程逻辑不可或缺的基础。\n",
    "    函数什么时候有用呢？自然就是有一段功能我们可能需要反复利用的时候就可以考虑用函数封装它。\n",
    "    然后就只需每次调用call这个函数即可。"
   ]
  },
  {
   "cell_type": "code",
   "execution_count": 2,
   "id": "9690fd6d-73ee-469e-be15-a77a7ccfc7dd",
   "metadata": {},
   "outputs": [],
   "source": [
    "# 比如我们要完成一个任务，指定任意两个数字，计算并得到他们的和，与差，然后计算和差之乘积\n",
    "# 这样的任务我们可以简单的先计算和，再计算差，最后相称得到结果。\n",
    "# 这样我们如果要对（2，3）， （5，6）， （7， 8）等等进行这样的计算，每次我们都要重复写这三个\n",
    "# 步骤，非常的没有效率而且占用空间。而由于每次我们需要执行的功能其实是一样的，我们只需要把功能\n",
    "# 封装成函数，然后只需要每次给函数不同的输入参数就可以了。"
   ]
  },
  {
   "cell_type": "code",
   "execution_count": 4,
   "id": "81bf00f8-c633-4e05-863c-acc401f0b61e",
   "metadata": {},
   "outputs": [
    {
     "name": "stdout",
     "output_type": "stream",
     "text": [
      "-5\n",
      "-11\n"
     ]
    }
   ],
   "source": [
    "# 如果不进行函数处理：\n",
    "a, b = 2, 3\n",
    "diff = a - b\n",
    "sum_ = a + b\n",
    "res = diff * sum_\n",
    "print(res)\n",
    "a, b = 5, 6\n",
    "diff = a - b\n",
    "sum_ = a + b\n",
    "res = diff * sum_\n",
    "print(res)\n",
    "# 以此类推"
   ]
  },
  {
   "cell_type": "code",
   "execution_count": 6,
   "id": "4e7d0a4d-b3f2-481d-b8ea-bca93aa092a8",
   "metadata": {},
   "outputs": [
    {
     "name": "stdout",
     "output_type": "stream",
     "text": [
      "-5 -11 -15\n"
     ]
    }
   ],
   "source": [
    "# 函数化处理：\n",
    "def sum_diff_prod(a, b):\n",
    "    return (a + b) * (a - b)\n",
    "print(sum_diff_prod(2,3), sum_diff_prod(5, 6), sum_diff_prod(7, 8))\n"
   ]
  },
  {
   "cell_type": "code",
   "execution_count": 8,
   "id": "3cd0c39b-01f2-4b50-9f97-ec2a8e24f92a",
   "metadata": {},
   "outputs": [
    {
     "name": "stdout",
     "output_type": "stream",
     "text": [
      "30\n"
     ]
    }
   ],
   "source": [
    "#  现在我们来看函数的定义， 函数需要用关键字def来定义，函数名称\n",
    "# 一般根据惯例python中函数名称小写，多个单词用下划线隔开，函数名称后必须加括号（）表示这是一个可以被call的函数。\n",
    "# （）内部存放形式参数，这些形式参数会被传递到函数体内部，函数可以有具体的返回值，返回值会被外部获取，如果没有写return，函数默认返回None类型。\n",
    "\n",
    "# 例：求和两个数\n",
    "def add(a, b): # <- a, b 是形式参数，进入函数使用可\n",
    "    return a + b # 返回了函数结果\n",
    "print(add(10, 20)) # add()返回的结果直接作为print的输入了"
   ]
  },
  {
   "cell_type": "code",
   "execution_count": 11,
   "id": "f84fd730-e68c-4fc6-8e61-42034d28ef29",
   "metadata": {},
   "outputs": [
    {
     "name": "stdout",
     "output_type": "stream",
     "text": [
      "This returns None\n",
      "<class 'NoneType'>\n"
     ]
    }
   ],
   "source": [
    "# eg：函数进行一些操作但是不显式返回任何对象\n",
    "def just_print(s):\n",
    "    print(s)\n",
    "res = just_print(\"This returns None\")  # 打印字符串，但是返回None给res\n",
    "print(type(res))"
   ]
  },
  {
   "cell_type": "code",
   "execution_count": 13,
   "id": "5e808b2f-97f0-4f94-ab33-a68c9169180a",
   "metadata": {},
   "outputs": [],
   "source": [
    "# 练习：创建一个函数，用来计算任意给定的两个整数的最大公约数。并且返回这个数。比如 func(3, 9) = > 3"
   ]
  },
  {
   "cell_type": "markdown",
   "id": "f78a46af-3b9f-4063-baf9-b9b43a97593b",
   "metadata": {},
   "source": [
    "## 函数的执行逻辑\n"
   ]
  },
  {
   "cell_type": "code",
   "execution_count": null,
   "id": "2911f7b6-6805-484f-8a21-e8fb6867f6db",
   "metadata": {},
   "outputs": [],
   "source": [
    "# 在函数声明时，python并不会去执行这个函数，（不会去call这个函数）"
   ]
  },
  {
   "cell_type": "code",
   "execution_count": 29,
   "id": "67905b5a-34a9-4c9b-ba7b-78ee6906a74e",
   "metadata": {},
   "outputs": [
    {
     "data": {
      "text/plain": [
       "function"
      ]
     },
     "execution_count": 29,
     "metadata": {},
     "output_type": "execute_result"
    }
   ],
   "source": [
    "# 函数在python内是一个function对象（后面一次课我们会介绍什么是对象和面向对象编程）\n",
    "# 声明后，python只会记住这个函数的入口，即这个函数名字表示的引用。把这个函数的功能代码放在内存里，等待被call。\n",
    "type(just_print) #-》 注意这里不要写成just_print(), 括号的含义其实是call，也就是执行函数并且获取返回值。所以类型会变成返回的结果的类型，比如这里的None。"
   ]
  },
  {
   "cell_type": "code",
   "execution_count": 30,
   "id": "8cd64572-af18-4cb9-98ac-38cdd44fb366",
   "metadata": {},
   "outputs": [
    {
     "name": "stdout",
     "output_type": "stream",
     "text": [
      "This is a call\n"
     ]
    },
    {
     "data": {
      "text/plain": [
       "NoneType"
      ]
     },
     "execution_count": 30,
     "metadata": {},
     "output_type": "execute_result"
    }
   ],
   "source": [
    "type(just_print(\"This is a call\"))"
   ]
  },
  {
   "cell_type": "code",
   "execution_count": 35,
   "id": "5c167f25-f02c-4f17-aac9-c64eee657690",
   "metadata": {},
   "outputs": [],
   "source": [
    "# call了函数之后，python的解释器会把参数带着一起传入函数内部，开始执行函数内部的代码，然后结束后退出函数的call的入口位置，继续下一步。\n",
    "# 所以这意味着，如果函数内部出现错误，不执行前是无法知道的：\n",
    "\n",
    "def bugged_func():\n",
    "    var1 # var1没定义过，python根本无法执行。但是也不会报错。\n",
    "    "
   ]
  },
  {
   "cell_type": "code",
   "execution_count": 36,
   "id": "ed8a494e-5100-4a8a-aa20-c37825268f24",
   "metadata": {},
   "outputs": [
    {
     "ename": "NameError",
     "evalue": "name 'var1' is not defined",
     "output_type": "error",
     "traceback": [
      "\u001b[0;31m---------------------------------------------------------------------------\u001b[0m",
      "\u001b[0;31mNameError\u001b[0m                                 Traceback (most recent call last)",
      "Input \u001b[0;32mIn [36]\u001b[0m, in \u001b[0;36m<cell line: 1>\u001b[0;34m()\u001b[0m\n\u001b[0;32m----> 1\u001b[0m \u001b[43mbugged_func\u001b[49m\u001b[43m(\u001b[49m\u001b[43m)\u001b[49m\n",
      "Input \u001b[0;32mIn [35]\u001b[0m, in \u001b[0;36mbugged_func\u001b[0;34m()\u001b[0m\n\u001b[1;32m      4\u001b[0m \u001b[38;5;28;01mdef\u001b[39;00m \u001b[38;5;21mbugged_func\u001b[39m():\n\u001b[0;32m----> 5\u001b[0m     \u001b[43mvar1\u001b[49m\n",
      "\u001b[0;31mNameError\u001b[0m: name 'var1' is not defined"
     ]
    }
   ],
   "source": [
    "bugged_func() # call这个函数了，开始执行，会报错"
   ]
  },
  {
   "cell_type": "markdown",
   "id": "f22b2032-bcc8-4eb7-be47-5bd95777a5cc",
   "metadata": {},
   "source": [
    "## 变量的作用域"
   ]
  },
  {
   "cell_type": "code",
   "execution_count": 14,
   "id": "ff5e9c3a-cd91-4ab6-8ab3-95ef43d11096",
   "metadata": {},
   "outputs": [],
   "source": [
    "# 一个python文件在python的解释器中其实就是一个module，一个文件夹就是一个package。\n",
    "# 在一个python程序中，通常有一个程序主文件，一般就是我们执行的那个文件。\n",
    "# 在主文件中定义的变量我们叫做全局变量，即它们在主文件的剩下的任何地方都可以被访问。这个访问范围我们叫做作用域。程序中变量的作用域非常重要。我们后续会看到。\n",
    "# 然而函数体的定义把一个作用域分割成了两个，即函数内部，和函数外部。"
   ]
  },
  {
   "cell_type": "code",
   "execution_count": 15,
   "id": "6015aa92-0960-409c-8d5f-6971d6042f72",
   "metadata": {},
   "outputs": [
    {
     "name": "stdout",
     "output_type": "stream",
     "text": [
      "global x 3\n"
     ]
    }
   ],
   "source": [
    "# 例： 在jupyter notebook中没有主文件的说法，但是可以简单认为这个notebook所有的单元格都是主文件的一部分。\n",
    "\n",
    "# 声明一个全局变量\n",
    "x = 3 # x 是一个整数变量3（的引用，python中使用对象都是通过引用，我们暂时不深入解释引用）\n",
    "def  add_one(a):\n",
    "    # this function add 1 on inputed var x\n",
    "    print('global x', x) # 测试是否可以访问全局变量\n",
    "    a += 1 # +=, -= *=  这类运算符按照从左到右顺序执行，相当于先+1，再把结果=赋值给左侧。\n",
    "add_one(5)\n"
   ]
  },
  {
   "cell_type": "code",
   "execution_count": 16,
   "id": "f674f534-decc-4819-8a0e-0679731a1d5e",
   "metadata": {},
   "outputs": [
    {
     "name": "stdout",
     "output_type": "stream",
     "text": [
      "internal x 10\n",
      "global x 3\n"
     ]
    }
   ],
   "source": [
    "# 上面的例子可见，x即使再函数内部也可以使用，现在我们重复上面的过程，这次我们再内部重新声明一个x，看看函数执行后，会有什么影响？\n",
    "# 声明一个全局变量\n",
    "x = 3 # x 是一个整数变量3（的引用，python中使用对象都是通过引用，我们暂时不深入解释引用）\n",
    "def  add_one(a):\n",
    "    # this function add 1 on inputed var x\n",
    "    x = 10 # 重新定一个x，值为10，和全局的x=3不同，思考：这里的x和外头的x是一个东西吗？\n",
    "    print('internal x', x)\n",
    "    a += 1 # +=, -= *=  这类运算符按照从左到右顺序执行，相当于先+1，再把结果=赋值给左侧。\n",
    "add_one(5)\n",
    "print('global x', x) # 在函数外检查一次x的值到底是多少？"
   ]
  },
  {
   "cell_type": "code",
   "execution_count": 38,
   "id": "0c8a77d6-a933-46b0-a7b5-94c42307905d",
   "metadata": {},
   "outputs": [
    {
     "name": "stdout",
     "output_type": "stream",
     "text": [
      "internal x address 4342530576\n",
      "global x address 4342530352\n"
     ]
    }
   ],
   "source": [
    "# 上面的例子我们发现两个x其实是独立的。原理是，在函数的内部进行定义变量定义的时候，这个变量的作用域只局限于这个函数内部。\n",
    "# 所以内部定义的x=10，打印出来也是x=10，但是当函数体结束执行回到主文件后，此时函数内部的x的作用域就结束了\n",
    "# 相当于所有函数内部的东西的生命周期都结束了。此时我们再打印x，结果自然就是原来的全局的x=3。\n",
    "# 虽然两个x看上去都叫x，但是实际上在python的执行过程中，他们对应的底层操作是完全不同的两个东西，这就是作用域的用途。\n",
    "# 我们可以用id（）函数查看运行时这两个x的内存地址，会发现他们根本是两个东西。\n",
    "x = 3 # x 是一个整数变量3（的引用，python中使用对象都是通过引用，我们暂时不深入解释引用）\n",
    "def  add_one(a):\n",
    "    # this function add 1 on inputed var x\n",
    "    x = 10 # 重新定一个x，值为10，和全局的x=3不同\n",
    "    print('internal x address', id(x))\n",
    "    a += 1 # +=, -= *=  这类运算符按照从左到右顺序执行，相当于先+1，再把结果=赋值给左侧。\n",
    "add_one(5)\n",
    "print('global x address', id(x)) # ->  两个x的地址完全不同，不是一个对象！！"
   ]
  },
  {
   "cell_type": "code",
   "execution_count": 39,
   "id": "f03a1816-3781-44cd-8a9f-0e4c7479fa73",
   "metadata": {},
   "outputs": [
    {
     "name": "stdout",
     "output_type": "stream",
     "text": [
      "internal var address 4342530896\n",
      "global var address 4342530896\n"
     ]
    }
   ],
   "source": [
    "# 可是为什么前一个例子里，可以在add_one里面打印一个全局量的值呢？\n",
    "# 那是因为python在执行一个函数内部代码时，如果出现了一个未被定义的量时，会先跳回全局空间里看看是否有对应的量，如果有则默认载入那个量\n",
    "# 所以会默认找到已经在函数外定义的全局的那个x=3，只有当函数内部有重新的定义时，才会在局部载入一个local的x=10。\n",
    "\n",
    "\n",
    "# 思考：既然函数内部所有的变量声明都是local的，只存在函数内部，那万一需要在函数内部声明一个全局量怎么办呢？\n",
    "# --》 使用global关键字。\n",
    "# global关键字先声明一个引用，表明这个是个全局引用（此时不需要赋值，后续再赋值即可）\n",
    "\n",
    "\n",
    "def  add_one(a):\n",
    "    # this function add 1 on inputed var x\n",
    "    \n",
    "    # 我们想在内部声明一个全局量x\n",
    "    global var #   这步在全局空间里加入一个x，但是暂时还不知道x是什么，相当于只起了个名字占个坑。\n",
    "    var = 20 # 给实际的定义。全局量\n",
    "    print('internal var address', id(var))\n",
    "    a += 1 # +=, -= *=  这类运算符按照从左到右顺序执行，相当于先+1，再把结果=赋值给左侧。\n",
    "add_one(5)\n",
    "print('global var address', id(var)) # ->  两个x的地址完全相同，因为都是只声明了一个全局的x在函数内部。\n",
    "\n",
    "# 思考并尝试：把上面的global var 行删除，在执行，看看会有什么错误？"
   ]
  },
  {
   "cell_type": "code",
   "execution_count": 37,
   "id": "6e602152-89d4-4d5e-8b18-8b8e3e6a2877",
   "metadata": {},
   "outputs": [
    {
     "name": "stdout",
     "output_type": "stream",
     "text": [
      "internal var address 4342531216\n"
     ]
    },
    {
     "ename": "NameError",
     "evalue": "name 'var_local' is not defined",
     "output_type": "error",
     "traceback": [
      "\u001b[0;31m---------------------------------------------------------------------------\u001b[0m",
      "\u001b[0;31mNameError\u001b[0m                                 Traceback (most recent call last)",
      "Input \u001b[0;32mIn [37]\u001b[0m, in \u001b[0;36m<cell line: 8>\u001b[0;34m()\u001b[0m\n\u001b[1;32m      6\u001b[0m     a \u001b[38;5;241m+\u001b[39m\u001b[38;5;241m=\u001b[39m \u001b[38;5;241m1\u001b[39m \u001b[38;5;66;03m# +=, -= *=  这类运算符按照从左到右顺序执行，相当于先+1，再把结果=赋值给左侧。\u001b[39;00m\n\u001b[1;32m      7\u001b[0m add_one(\u001b[38;5;241m5\u001b[39m)\n\u001b[0;32m----> 8\u001b[0m \u001b[38;5;28mprint\u001b[39m(\u001b[38;5;124m'\u001b[39m\u001b[38;5;124mglobal var address\u001b[39m\u001b[38;5;124m'\u001b[39m, \u001b[38;5;28mid\u001b[39m(\u001b[43mvar_local\u001b[49m))\n",
      "\u001b[0;31mNameError\u001b[0m: name 'var_local' is not defined"
     ]
    }
   ],
   "source": [
    "# 删除global行：\n",
    "def  add_one(a):\n",
    "    # this function add 1 on inputed var x\n",
    "    var_local = 30 # 定义local变量\n",
    "    print('internal var address', id(var_local))\n",
    "    a += 1 # +=, -= *=  这类运算符按照从左到右顺序执行，相当于先+1，再把结果=赋值给左侧。\n",
    "add_one(5)\n",
    "print('global var address', id(var_local)) # ->  两个x的地址完全相同，因为都是只声明了一个全局的x在函数内部。\n"
   ]
  },
  {
   "cell_type": "code",
   "execution_count": null,
   "id": "3bffac1b-e5dc-47b5-af9e-4659ecbbb8a1",
   "metadata": {},
   "outputs": [],
   "source": [
    "# undefined, 因为我们从来没有在外部定义过var_local, 而函数结束后，local变量已经全部释放了。"
   ]
  },
  {
   "cell_type": "markdown",
   "id": "4282dd88-ed4b-4e30-9668-5b94e3b18aae",
   "metadata": {},
   "source": [
    "## 函数的传参"
   ]
  },
  {
   "cell_type": "code",
   "execution_count": 42,
   "id": "37f6f718-2971-4735-9b03-86261d963296",
   "metadata": {},
   "outputs": [
    {
     "ename": "SyntaxError",
     "evalue": "non-default argument follows default argument (1320574147.py, line 9)",
     "output_type": "error",
     "traceback": [
      "\u001b[0;36m  Input \u001b[0;32mIn [42]\u001b[0;36m\u001b[0m\n\u001b[0;31m    def do_something(a, c=0, b, d=0):\u001b[0m\n\u001b[0m                             ^\u001b[0m\n\u001b[0;31mSyntaxError\u001b[0m\u001b[0;31m:\u001b[0m non-default argument follows default argument\n"
     ]
    }
   ],
   "source": [
    "# 函数需要参数（空参数也是参数），一般有两种参数，位置参数positional arguments，和关键字参数keyword arguements,也叫default arguments，因为这种参数在定义时需要给定默认值。\n",
    "# 以便在没有明确给出具体值时仍然能用默认值进行计算。\n",
    "# 位置参数必须全部放在关键字参数前，否则会报错\n",
    "\n",
    "# 例如：\n",
    "\n",
    "\n",
    "# 错误写法\n",
    "def do_something(a, c=0, b, d=0):\n",
    "    pass"
   ]
  },
  {
   "cell_type": "code",
   "execution_count": 51,
   "id": "8ac9ee53-dbbf-4b94-b909-27c132751086",
   "metadata": {},
   "outputs": [],
   "source": [
    "#正确写法\n",
    "def do_something(a, b, c=0, d=0):\n",
    "    print(a, b, c, d)"
   ]
  },
  {
   "cell_type": "code",
   "execution_count": 52,
   "id": "9b086fc2-5651-451d-80c0-f38ccf965e35",
   "metadata": {},
   "outputs": [
    {
     "name": "stdout",
     "output_type": "stream",
     "text": [
      "1 2 3 4\n"
     ]
    }
   ],
   "source": [
    "# 在传入参数时，一般位置参数直接把外部的实参放在对应的顺序位置上即可，而关键字参数必须要用等号表示传入。例如：\n",
    "#  正确用法：\n",
    "do_something(1, 2, c=3, d=4)"
   ]
  },
  {
   "cell_type": "code",
   "execution_count": 53,
   "id": "1d637921-d008-4143-a51c-3feb1216c5ff",
   "metadata": {},
   "outputs": [
    {
     "name": "stdout",
     "output_type": "stream",
     "text": [
      "1 2 3 4\n"
     ]
    }
   ],
   "source": [
    "# 位置参数也可以用等号表示传入参数，避免有时忘记参数位置顺序导致的错误\n",
    "#正确写法\n",
    "do_something(a=1, b=2, c=3, d=4)\n",
    "# 但是此时仍必须保持位置参数在前，比如下面的写法时错误的："
   ]
  },
  {
   "cell_type": "code",
   "execution_count": 54,
   "id": "49f855b9-9aee-4ec3-9ffd-be2da9c75b2d",
   "metadata": {},
   "outputs": [
    {
     "ename": "SyntaxError",
     "evalue": "positional argument follows keyword argument (3704913400.py, line 1)",
     "output_type": "error",
     "traceback": [
      "\u001b[0;36m  Input \u001b[0;32mIn [54]\u001b[0;36m\u001b[0m\n\u001b[0;31m    do_something(a=1, 2, c=3, d=4)\u001b[0m\n\u001b[0m                                 ^\u001b[0m\n\u001b[0;31mSyntaxError\u001b[0m\u001b[0;31m:\u001b[0m positional argument follows keyword argument\n"
     ]
    }
   ],
   "source": [
    "do_something(a=1, 2, c=3, d=4)"
   ]
  },
  {
   "cell_type": "code",
   "execution_count": 56,
   "id": "bed0e16d-eab5-4ce5-946a-cfbc81c6d560",
   "metadata": {},
   "outputs": [
    {
     "name": "stdout",
     "output_type": "stream",
     "text": [
      "1 2 3 4\n"
     ]
    }
   ],
   "source": [
    "# 此外，传参也可以省略关键字参数的等号=，但此时相当于把关键字参数认为是顺序参数，所以一定要注意顺序，否则程序容易出错\n",
    "do_something(1, 2, 3, d=4) # 省略c=，但是相当于把3默认为给c的参数"
   ]
  },
  {
   "cell_type": "code",
   "execution_count": 57,
   "id": "f4a30e9e-6657-4224-b282-a906ee41bd9b",
   "metadata": {},
   "outputs": [],
   "source": [
    "# 虽然python可以智能的进行这些是识别，但是尽量按照最严谨的方法，严格区分顺序参数和关键字参数的用法为佳。"
   ]
  },
  {
   "cell_type": "code",
   "execution_count": 58,
   "id": "06bf2d8f-ae3a-4af3-8f73-6e665df530cb",
   "metadata": {},
   "outputs": [],
   "source": [
    "# *符号和**符号。\n",
    "# python的函数传参常会见到类似于*args和**kwargs两种表示，那他们分别是什么意思呢？\n",
    "# 对于*符号，这个符号意味着这个函数此时可以接受任意数量的顺序参数，这些参数进入函数内部后会被打包成一个由arg标记的tuple。进而可以在函数内部使用，比如：\n",
    "def func(*args):\n",
    "    print(type(args), len(args))\n",
    "    print([ _ for _ in args])\n",
    "    "
   ]
  },
  {
   "cell_type": "code",
   "execution_count": 59,
   "id": "0fd98dd4-3f5b-4ba5-90d4-66407a123970",
   "metadata": {},
   "outputs": [
    {
     "name": "stdout",
     "output_type": "stream",
     "text": [
      "<class 'tuple'> 6\n",
      "[1, 2, 3, 4, 'Apple', True]\n"
     ]
    }
   ],
   "source": [
    "# 由于*的存在，func中的顺序参数可以有任意个,这特别适合函数输入参数不能提前确定的情况。比如输入一些数字计算和的时候，如果不知道要输入多少个数字，则无法写出具体的形式参数的数量\n",
    "func(1,2,3,4,\"Apple\", True)"
   ]
  },
  {
   "cell_type": "code",
   "execution_count": 63,
   "id": "449e11c1-920a-4b83-ba0f-ff63e168775c",
   "metadata": {},
   "outputs": [
    {
     "name": "stdout",
     "output_type": "stream",
     "text": [
      "15 14\n"
     ]
    }
   ],
   "source": [
    "# 这特别适合函数输入参数不能提前确定的情况。比如输入一些数字计算和的时候，如果不知道要输入多少个数字，则无法写出具体的形式参数的数量,例如：\n",
    "def get_sum(*args):\n",
    "    res = 0\n",
    "    for i in args:\n",
    "        res += i\n",
    "    return res\n",
    "\n",
    "print(get_sum(1,2,3,4,5), get_sum(1,1,1,1,1,1,1,1,1,1,1,1,1,1,))"
   ]
  },
  {
   "cell_type": "code",
   "execution_count": 64,
   "id": "2d85dae9-022a-4579-bdc5-2b2a1c9b11c7",
   "metadata": {},
   "outputs": [],
   "source": [
    "# 对于**符号，和*类似的，指代的是函数此时可以接受数量不限个的关键字参数\n",
    "# 这些关键字参数，由于是以形式参数=实际参数的形式进入函数的，特别的类似于字典的key-value pair\n",
    "# 函数内这些关键字参数会被封装在kwargs的dict里，需要调用时只需要根据字典的使用规则来即可，例如：\n",
    "\n",
    "def count_strings(**kwargs):\n",
    "    # return how many strings has been inputed in this functions\n",
    "    c = 0\n",
    "    for key, value in kwargs.items():\n",
    "        if type(value) == str:\n",
    "            c += 1\n",
    "    return c"
   ]
  },
  {
   "cell_type": "code",
   "execution_count": 66,
   "id": "c1e7dbc9-3702-4d4f-8b2d-2bcb00e11d88",
   "metadata": {},
   "outputs": [
    {
     "name": "stdout",
     "output_type": "stream",
     "text": [
      "1\n"
     ]
    }
   ],
   "source": [
    "c = count_strings(p1=1,p2=2,p3=3,p4=\"Apple\") # 注意此时必须要用关键字参数哦\n",
    "print(c)"
   ]
  },
  {
   "cell_type": "code",
   "execution_count": null,
   "id": "46aca44a-96ea-4e9c-95fc-eb42a8a05bdc",
   "metadata": {},
   "outputs": [],
   "source": []
  }
 ],
 "metadata": {
  "kernelspec": {
   "display_name": "py3.10_torch",
   "language": "python",
   "name": "py3.10_torch"
  },
  "language_info": {
   "codemirror_mode": {
    "name": "ipython",
    "version": 3
   },
   "file_extension": ".py",
   "mimetype": "text/x-python",
   "name": "python",
   "nbconvert_exporter": "python",
   "pygments_lexer": "ipython3",
   "version": "3.10.5"
  }
 },
 "nbformat": 4,
 "nbformat_minor": 5
}
