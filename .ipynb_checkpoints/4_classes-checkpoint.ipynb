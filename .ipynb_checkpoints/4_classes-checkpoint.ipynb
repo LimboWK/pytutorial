{
 "cells": [
  {
   "cell_type": "markdown",
   "id": "952afe50-87be-44d3-a039-f7adbf3374a4",
   "metadata": {},
   "source": [
    "# python 中的类，定义，实例化，继承关系\n",
    "    1.类是什么 \n",
    "    2.python里如何定义类class：为什么python被称作完全面向对象\n",
    "    3.如何用类来实例化对象object\n",
    "    4.类的继承super()"
   ]
  },
  {
   "cell_type": "markdown",
   "id": "f2ce4c48-d669-4611-9983-81e4c53ed06a",
   "metadata": {},
   "source": [
    "\"\"\"\n",
    "程序的目的是解决实际问题，而实际问题往往涉及到很多现实生活中的物体。这些\n",
    "物体千奇百怪，有的是具体的，比如一个汽车一个椅子，有的是抽象的，比如一个算法框架，一个数据结构。\n",
    "为了更好的在编程解决问题的过程中，利用代码去模拟一个物体的属性和行为，我们需要一个方法来批量化的\n",
    "生成这些物体在代码世界里的对应，所以我们需要类 class。\n",
    "\n",
    "类是一类物体的蓝图和基础，我们规定了属于某一个类的\n",
    "物体的共有属性和共有方法后，就可以重复的调用类来定义物体，所有的物体都有相通的性质，只不过具体的属性值不通而已。\n",
    "比如，每个人都有名称，性别，身高体重等属性，这些属性虽然具体值可以不一样，但这些属性是每个人都具备的。\n",
    "所以我们只需要掌握了这些共性，就可以快速的生成很多很多不同的人。\n",
    "\n",
    "我们通常把这些物体（无论抽象还是具象）成为对象object，所以万物皆是对象，而对象的蓝图，就是类 class。\n",
    "先勾勒出蓝图的样子，即定义class，然后用class，通过具体的初始化过程，来生成具体的对象，叫做实例化instance。\n",
    "\n",
    "类的出现，标志着面向对象编程思想的落地，早期的许多语言是不支持面向对象的，例如大名鼎鼎的C语言。但是其中的struct结构体其实已经有了class的雏形了。\n",
    "目前主流的语言比如python，java，c++都是面向对象的，即他们提供了专门的对于类class的定义语法。\n",
    "\"\"\""
   ]
  },
  {
   "cell_type": "code",
   "execution_count": 11,
   "id": "5adaa116-a059-4d54-85a7-3841ab54a818",
   "metadata": {},
   "outputs": [
    {
     "name": "stdout",
     "output_type": "stream",
     "text": [
      "<class '__main__.Human'>\n",
      "<__main__.Human object at 0x1039a6b60>\n",
      "<class '__main__.Human'>\n",
      "<class 'type'>\n"
     ]
    }
   ],
   "source": [
    "# python中类的定义： 利用class关键字，根据pep8规则，class的名字开头一般要用大些字母，例如：\n",
    "class Human():\n",
    "    pass # 我们暂时不写任何具体的代码，python会自动生成一个什么都没有的类。\n",
    "\n",
    "# 如果我们要用这个Human蓝图来声明一个具体的对象，只需要在后面加上call的括号。然后赋值即可：\n",
    "human = Human() # 目前没有需要传入的参数，所以这么写即可。\n",
    "\n",
    "# 注意，我们说python是完全面向对象的，意思是python中一切的合法存在的元素，本质都是一个由类定义出来的对象。哪怕是用来定义别的对象的类定义本身。\n",
    "# 这里可能有点难以理解。打个比方，这个世界有很多物体对象，比如说公民吧，在一个社会满足一定条件的人才算是公民。这里公民是一个类，而一个个具体的公民人，是这个类\n",
    "# 实例化出来的对象。那么，是谁赋予了或者说定义了公民这个类呢？现实里可以是我们的立法机关或者说法律体系，在python世界里自然就是我们写出来的类定义代码比如上面的这个类。\n",
    "# 那既然这个世界里所有的东西都是对象，或者说都是类定义出来的东西，那自然这个用来定义类的东西也是一个对象。就好比立法机关作为公民类的定义者，它本身也是一个实体对象，而这个实体对象\n",
    "# 也是别的类定义出来的，比如我们可以认为立法机构是宪法定义出来的一个属于国家机关类的实体。那python中用来定义Human的这个类，也是由另一个类定义出来的一个实体，这个定义类的类，叫做type，顾名思义，即类型类。\n",
    "# 我们知道type函数可以查看对象的类是什么，比如：\n",
    "# 注意观察下面的不同\n",
    "print(Human)\n",
    "print(Human())\n",
    "print(type(Human()))\n",
    "print(type(Human))\n",
    "# 思考为什么我们能获得这些结果，理解了下面几个的不同，就真正的理解了python中类的概念！！\n"
   ]
  },
  {
   "cell_type": "code",
   "execution_count": 12,
   "id": "e669d5f4-5117-4904-899e-75fffd35f98c",
   "metadata": {},
   "outputs": [],
   "source": [
    "# 上面的这个类Human我们没有加任何东西，所以其实不过是一个符合语法的类的空壳子，没什么用，我们现在来一步步看看一个比较正常的有用的类应该长什么样子吧。\n",
    "# class中代码通常会被分配到各个内部函数体中，我们现在一个个函数看。\n",
    "# 第一，我们需要一个初始化函数，以及了解一个很重要的内部对象self！！\n",
    "class Human():\n",
    "    def __init__(self):\n",
    "        pass\n",
    "# __init__ 前后各有两个下划线。类似的函数叫做dunder function，一般是python内部定义好的函数，不会轻易修改，但是其实他们跟一般的函数没有区别。我们现在写的函数都是在class内部的，所以都是属于这个类的，外部无法访问。\n",
    "# __init__ 叫做初始化函数，或者构造函数，每个class都必须有，如果没有写，那python会自动用内置的类的初始化函数代替。在类进行实例化的时候，这个函数就会自动执行完成具体的实例化过程。\n",
    "\n",
    "# 那么这个self是干什么的？ 通过名字我们其实就知道，self是自己的意思，没错，self指的就是这个类本身。\n",
    "# 我们干嘛需要这个self呢？ 想象一下，首先在我们写class的定义的时候，我们肯定还没法用它来初始化任何一个实例对象（还没写完呢怎么用呢？）。但是我又想假装这个类已经能实例化了，这样我才能\n",
    "# 在里面写各种属性，或者方法，例如我想要以后实例化出来的对象有个专属属性 名字 name。 我在内部单独定义一个name，作为内部变量，无法被外部获取啊，而且，我怎么能让python知道，这个name不是一般的\n",
    "# name，是属于这个类的， 它独有的，不会跟其他地方定义的name混淆的。这样每个将来由这个类声明出来的对象，都会有这个name的属性，我要做的无非就是申明他们的时候把具体的名字放进去即可。\n",
    "# 所以 self存在的意义，就是在类定义的内部，指代自己，也即是指带未来会被这个类实例化出来的具体对象。方便我们来构建未来这些对象应该有的属性和方法。\n",
    "# 这样在class内部用def定义出来的函数，如果带有一个self作为输入参数，python中我们成为实例函数或者叫实例方法，对象方法等。后面我们会介绍不需要用self作为输入的def，叫做类方法或者静态函数。\n"
   ]
  },
  {
   "cell_type": "code",
   "execution_count": 28,
   "id": "a54d5c61-41b3-437f-9d0f-200b63932bf7",
   "metadata": {},
   "outputs": [
    {
     "name": "stdout",
     "output_type": "stream",
     "text": [
      "John\n",
      "Mary Peter\n"
     ]
    }
   ],
   "source": [
    "# 上面的例子我们有了init函数了，但是没有写具体的代码。我们知道了self只是用在class定义是内部来指代自己实例的，那如果我们需要从外部输入参数，并且用作初始化，怎么办呢？\n",
    "# 我们需要像一般的函数传参数一样，在init里把他们写到self的后面即可。这样就可以接受外部的输入了。同时我们就可以把这个name用来创建一个专属于class未来对象的属性，用self.xxx来表示。\n",
    "class Human():\n",
    "    def __init__(self, name): # name在这里就可以用来接受外部输入了\n",
    "        self.name = name # 接收到了外部输入赋值给一个属于self的内部属性，因为self是指代自己对象或者说未来所有实例的称号，所以每一个未来的对象只要给不同的name进去，就能有不同的name。\n",
    "        \n",
    "# 那现在我们想实例化一个名字叫John的human，怎么做 ？\n",
    "person1 = Human('John') # 刚才说过，init会在类实例化过程里自动执行，所以左边其实相当于已经执行了init了，这里self是内部的，\n",
    "# 我们不需要在实例话的时候给出，所以只需要给一个name参数，就可以call init函数了。\n",
    "# 直接用class名字加初始化函数init需要的参数的方法是python中用类进行实例化的默认语法。\n",
    "\n",
    "# 看看person1的名字怎么样？在内部我们叫self.name,外部我们把self替换成person即可 --》 这就是self的目的，在class内部指代未来会被实例化的对象。\n",
    "print(person1.name)\n",
    "\n",
    "# 我们重复这个过程，改变名字，就能创建很多个基于Human类的实例人。他们都是独立的实体对象，都有名字，只不过名字不同。\n",
    "person2 = Human('Mary')\n",
    "person3 = Human('Peter')\n",
    "print(person2.name, person3.name)"
   ]
  },
  {
   "cell_type": "code",
   "execution_count": 31,
   "id": "1acf63dd-752f-44d8-aa9e-b5e927772465",
   "metadata": {},
   "outputs": [],
   "source": [
    "### 练习：类似上面的写法，创造一个人对象，是他拥有name，height，weight，和age属性。\n",
    "# 先创建符合要求的class，然后在用这个class进行实例化"
   ]
  },
  {
   "cell_type": "code",
   "execution_count": 33,
   "id": "77ef5f16-5700-4be7-9d23-cab5706cf443",
   "metadata": {},
   "outputs": [
    {
     "name": "stdout",
     "output_type": "stream",
     "text": [
      "Will True\n"
     ]
    }
   ],
   "source": [
    "# 一个类需要的所有属性一般都放在init函数里，其中一部分可能是需要外部输入的，一部分可以是内部设置的，只需要看需不需要在init的参数里暴露它们即可。\n",
    "# 比如下面，每个人都是有名字的而且需要制定，但是每个人的is_alive属性都默认为True。\n",
    "class Human():\n",
    "    def __init__(self, name):\n",
    "        self.name = name \n",
    "        self.is_alive = True\n",
    "person = Human('Will')\n",
    "print(person.name, person.is_alive)"
   ]
  },
  {
   "cell_type": "code",
   "execution_count": 39,
   "id": "6ecc2ca3-1da6-4024-a9c6-925a0f173f57",
   "metadata": {},
   "outputs": [
    {
     "name": "stdout",
     "output_type": "stream",
     "text": [
      "Mark [0, 0]\n",
      "Mark [20, 10]\n",
      "Mark [10, 15]\n"
     ]
    }
   ],
   "source": [
    "# 对象有属性还不够，很多时候我们还需要一些功能，比如人可以走路，从而改变位置; 人可以处理简单计算，并且输出结果.\n",
    "# 这些功能的实现，我们之前可以用学过函数def来，那显然的，如果我们希望这些功能成为某一类对象的专属功能，我们就要在类的定义里直接给出def。\n",
    "# 例如， 我们让人具有位置2维坐标信息，然后赋予他们走路功能，通过给定走路的坐标，例如沿着x走和y走，得到走路后的新的位置坐标。\n",
    "# 类似于init函数，我们自己内部定义一个move函数即可。接受外部坐标值，然后改变内部的坐标位置即可。\n",
    "class Human():\n",
    "    def __init__(self, name=\"__nobody__\", x=0, y=0):\n",
    "        self.name = name # 默认名称为‘nobody’\n",
    "        self.x = x # 初始位置在（0，0）\n",
    "        self.y = y\n",
    "        self.loc = [self.x, self.y]\n",
    "        \n",
    "    def move(self, dx, dy):\n",
    "        self.x += dx\n",
    "        self.y += dy\n",
    "        # update self.loc as well\n",
    "        self.loc = [self.x, self.y]\n",
    "    \n",
    "# 实例化：\n",
    "mark = Human('Mark')\n",
    "print(mark.name, mark.loc)\n",
    "mark.move(20, 10)\n",
    "print(mark.name, mark.loc)\n",
    "mark.move(-10, 5)\n",
    "print(mark.name, mark.loc)"
   ]
  },
  {
   "cell_type": "code",
   "execution_count": null,
   "id": "532b8bb1-05ae-4266-b543-c30ac1e9828f",
   "metadata": {},
   "outputs": [],
   "source": []
  }
 ],
 "metadata": {
  "kernelspec": {
   "display_name": "py3.10_torch",
   "language": "python",
   "name": "py3.10_torch"
  },
  "language_info": {
   "codemirror_mode": {
    "name": "ipython",
    "version": 3
   },
   "file_extension": ".py",
   "mimetype": "text/x-python",
   "name": "python",
   "nbconvert_exporter": "python",
   "pygments_lexer": "ipython3",
   "version": "3.10.5"
  }
 },
 "nbformat": 4,
 "nbformat_minor": 5
}
