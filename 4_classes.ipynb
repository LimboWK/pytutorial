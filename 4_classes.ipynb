{
 "cells": [
  {
   "cell_type": "markdown",
   "id": "952afe50-87be-44d3-a039-f7adbf3374a4",
   "metadata": {},
   "source": [
    "# python 中的类，定义，实例化，继承关系\n",
    "    1.类是什么 \n",
    "    2.python里如何定义类class：为什么python被称作完全面向对象\n",
    "    3.如何用类来实例化对象object\n",
    "    4.类的继承super()"
   ]
  },
  {
   "cell_type": "markdown",
   "id": "f2ce4c48-d669-4611-9983-81e4c53ed06a",
   "metadata": {},
   "source": [
    "\"\"\"\n",
    "程序的目的是解决实际问题，而实际问题往往涉及到很多现实生活中的物体。这些\n",
    "物体千奇百怪，有的是具体的，比如一个汽车一个椅子，有的是抽象的，比如一个算法框架，一个数据结构。\n",
    "为了更好的在编程解决问题的过程中，利用代码去模拟一个物体的属性和行为，我们需要一个方法来批量化的\n",
    "生成这些物体在代码世界里的对应，所以我们需要类 class。\n",
    "\n",
    "类是一类物体的蓝图和基础，我们规定了属于某一个类的\n",
    "物体的共有属性和共有方法后，就可以重复的调用类来定义物体，所有的物体都有相通的性质，只不过具体的属性值不通而已。\n",
    "比如，每个人都有名称，性别，身高体重等属性，这些属性虽然具体值可以不一样，但这些属性是每个人都具备的。\n",
    "所以我们只需要掌握了这些共性，就可以快速的生成很多很多不同的人。\n",
    "\n",
    "我们通常把这些物体（无论抽象还是具象）成为对象object，所以万物皆是对象，而对象的蓝图，就是类 class。\n",
    "先勾勒出蓝图的样子，即定义class，然后用class，通过具体的初始化过程，来生成具体的对象，叫做实例化instance。\n",
    "\n",
    "类的出现，标志着面向对象编程思想的落地，早期的许多语言是不支持面向对象的，例如大名鼎鼎的C语言。但是其中的struct结构体其实已经有了class的雏形了。\n",
    "目前主流的语言比如python，java，c++都是面向对象的，即他们提供了专门的对于类class的定义语法。\n",
    "\"\"\""
   ]
  },
  {
   "cell_type": "code",
   "execution_count": 11,
   "id": "5adaa116-a059-4d54-85a7-3841ab54a818",
   "metadata": {},
   "outputs": [
    {
     "name": "stdout",
     "output_type": "stream",
     "text": [
      "<class '__main__.Human'>\n",
      "<__main__.Human object at 0x1039a6b60>\n",
      "<class '__main__.Human'>\n",
      "<class 'type'>\n"
     ]
    }
   ],
   "source": [
    "# python中类的定义： 利用class关键字，根据pep8规则，class的名字开头一般要用大些字母，例如：\n",
    "class Human():\n",
    "    pass # 我们暂时不写任何具体的代码，python会自动生成一个什么都没有的类。\n",
    "\n",
    "# 如果我们要用这个Human蓝图来声明一个具体的对象，只需要在后面加上call的括号。然后赋值即可：\n",
    "human = Human() # 目前没有需要传入的参数，所以这么写即可。\n",
    "\n",
    "# 注意，我们说python是完全面向对象的，意思是python中一切的合法存在的元素，本质都是一个由类定义出来的对象。哪怕是用来定义别的对象的类定义本身。\n",
    "# 这里可能有点难以理解。打个比方，这个世界有很多物体对象，比如说公民吧，在一个社会满足一定条件的人才算是公民。这里公民是一个类，而一个个具体的公民人，是这个类\n",
    "# 实例化出来的对象。那么，是谁赋予了或者说定义了公民这个类呢？现实里可以是我们的立法机关或者说法律体系，在python世界里自然就是我们写出来的类定义代码比如上面的这个类。\n",
    "# 那既然这个世界里所有的东西都是对象，或者说都是类定义出来的东西，那自然这个用来定义类的东西也是一个对象。就好比立法机关作为公民类的定义者，它本身也是一个实体对象，而这个实体对象\n",
    "# 也是别的类定义出来的，比如我们可以认为立法机构是宪法定义出来的一个属于国家机关类的实体。那python中用来定义Human的这个类，也是由另一个类定义出来的一个实体，这个定义类的类，叫做type，顾名思义，即类型类。\n",
    "# 我们知道type函数可以查看对象的类是什么，比如：\n",
    "# 注意观察下面的不同\n",
    "print(Human)\n",
    "print(Human())\n",
    "print(type(Human()))\n",
    "print(type(Human))\n",
    "# 思考为什么我们能获得这些结果，理解了下面几个的不同，就真正的理解了python中类的概念！！\n"
   ]
  },
  {
   "cell_type": "code",
   "execution_count": 12,
   "id": "e669d5f4-5117-4904-899e-75fffd35f98c",
   "metadata": {},
   "outputs": [],
   "source": [
    "# 上面的这个类Human我们没有加任何东西，所以其实不过是一个符合语法的类的空壳子，没什么用，我们现在来一步步看看一个比较正常的有用的类应该长什么样子吧。\n",
    "# class中代码通常会被分配到各个内部函数体中，我们现在一个个函数看。\n",
    "# 第一，我们需要一个初始化函数，以及了解一个很重要的内部对象self！！\n",
    "class Human():\n",
    "    def __init__(self):\n",
    "        pass\n",
    "# __init__ 前后各有两个下划线。类似的函数叫做dunder function，一般是python内部定义好的函数，不会轻易修改，但是其实他们跟一般的函数没有区别。我们现在写的函数都是在class内部的，所以都是属于这个类的，外部无法访问。\n",
    "# __init__ 叫做初始化函数，或者构造函数，每个class都必须有，如果没有写，那python会自动用内置的类的初始化函数代替。在类进行实例化的时候，这个函数就会自动执行完成具体的实例化过程。\n",
    "\n",
    "# 那么这个self是干什么的？ 通过名字我们其实就知道，self是自己的意思，没错，self指的就是这个类本身。\n",
    "# 我们干嘛需要这个self呢？ 想象一下，首先在我们写class的定义的时候，我们肯定还没法用它来初始化任何一个实例对象（还没写完呢怎么用呢？）。但是我又想假装这个类已经能实例化了，这样我才能\n",
    "# 在里面写各种属性，或者方法，例如我想要以后实例化出来的对象有个专属属性 名字 name。 我在内部单独定义一个name，作为内部变量，无法被外部获取啊，而且，我怎么能让python知道，这个name不是一般的\n",
    "# name，是属于这个类的， 它独有的，不会跟其他地方定义的name混淆的。这样每个将来由这个类声明出来的对象，都会有这个name的属性，我要做的无非就是申明他们的时候把具体的名字放进去即可。\n",
    "# 所以 self存在的意义，就是在类定义的内部，指代自己，也即是指带未来会被这个类实例化出来的具体对象。方便我们来构建未来这些对象应该有的属性和方法。\n",
    "# 这样在class内部用def定义出来的函数，如果带有一个self作为输入参数，python中我们成为实例函数或者叫实例方法，对象方法等。后面我们会介绍不需要用self作为输入的def，叫做类方法或者静态函数。\n"
   ]
  },
  {
   "cell_type": "code",
   "execution_count": 28,
   "id": "a54d5c61-41b3-437f-9d0f-200b63932bf7",
   "metadata": {},
   "outputs": [
    {
     "name": "stdout",
     "output_type": "stream",
     "text": [
      "John\n",
      "Mary Peter\n"
     ]
    }
   ],
   "source": [
    "# 上面的例子我们有了init函数了，但是没有写具体的代码。我们知道了self只是用在class定义是内部来指代自己实例的，那如果我们需要从外部输入参数，并且用作初始化，怎么办呢？\n",
    "# 我们需要像一般的函数传参数一样，在init里把他们写到self的后面即可。这样就可以接受外部的输入了。同时我们就可以把这个name用来创建一个专属于class未来对象的属性，用self.xxx来表示。\n",
    "class Human():\n",
    "    def __init__(self, name): # name在这里就可以用来接受外部输入了\n",
    "        self.name = name # 接收到了外部输入赋值给一个属于self的内部属性，因为self是指代自己对象或者说未来所有实例的称号，所以每一个未来的对象只要给不同的name进去，就能有不同的name。\n",
    "        \n",
    "# 那现在我们想实例化一个名字叫John的human，怎么做 ？\n",
    "person1 = Human('John') # 刚才说过，init会在类实例化过程里自动执行，所以左边其实相当于已经执行了init了，这里self是内部的，\n",
    "# 我们不需要在实例话的时候给出，所以只需要给一个name参数，就可以call init函数了。\n",
    "# 直接用class名字加初始化函数init需要的参数的方法是python中用类进行实例化的默认语法。\n",
    "\n",
    "# 看看person1的名字怎么样？在内部我们叫self.name,外部我们把self替换成person即可 --》 这就是self的目的，在class内部指代未来会被实例化的对象。\n",
    "print(person1.name)\n",
    "\n",
    "# 我们重复这个过程，改变名字，就能创建很多个基于Human类的实例人。他们都是独立的实体对象，都有名字，只不过名字不同。\n",
    "person2 = Human('Mary')\n",
    "person3 = Human('Peter')\n",
    "print(person2.name, person3.name)"
   ]
  },
  {
   "cell_type": "code",
   "execution_count": 31,
   "id": "1acf63dd-752f-44d8-aa9e-b5e927772465",
   "metadata": {},
   "outputs": [],
   "source": [
    "### 练习：类似上面的写法，创造一个人对象，是他拥有name，height，weight，和age属性。\n",
    "# 先创建符合要求的class，然后在用这个class进行实例化"
   ]
  },
  {
   "cell_type": "code",
   "execution_count": 33,
   "id": "77ef5f16-5700-4be7-9d23-cab5706cf443",
   "metadata": {},
   "outputs": [
    {
     "name": "stdout",
     "output_type": "stream",
     "text": [
      "Will True\n"
     ]
    }
   ],
   "source": [
    "# 一个类需要的所有属性一般都放在init函数里，其中一部分可能是需要外部输入的，一部分可以是内部设置的，只需要看需不需要在init的参数里暴露它们即可。\n",
    "# 比如下面，每个人都是有名字的而且需要制定，但是每个人的is_alive属性都默认为True。\n",
    "class Human():\n",
    "    def __init__(self, name):\n",
    "        self.name = name \n",
    "        self.is_alive = True\n",
    "person = Human('Will')\n",
    "print(person.name, person.is_alive)"
   ]
  },
  {
   "cell_type": "code",
   "execution_count": 39,
   "id": "6ecc2ca3-1da6-4024-a9c6-925a0f173f57",
   "metadata": {},
   "outputs": [
    {
     "name": "stdout",
     "output_type": "stream",
     "text": [
      "Mark [0, 0]\n",
      "Mark [20, 10]\n",
      "Mark [10, 15]\n"
     ]
    }
   ],
   "source": [
    "# 对象有属性还不够，很多时候我们还需要一些功能，比如人可以走路，从而改变位置; 人可以处理简单计算，并且输出结果.\n",
    "# 这些功能的实现，我们之前可以用学过函数def来，那显然的，如果我们希望这些功能成为某一类对象的专属功能，我们就要在类的定义里直接给出def。\n",
    "# 例如， 我们让人具有位置2维坐标信息，然后赋予他们走路功能，通过给定走路的坐标，例如沿着x走和y走，得到走路后的新的位置坐标。\n",
    "# 类似于init函数，我们自己内部定义一个move函数即可。接受外部坐标值，然后改变内部的坐标位置即可。\n",
    "class Human():\n",
    "    def __init__(self, name=\"__nobody__\", x=0, y=0):\n",
    "        self.name = name # 默认名称为‘nobody’\n",
    "        self.x = x # 初始位置在（0，0）\n",
    "        self.y = y\n",
    "        self.loc = [self.x, self.y]\n",
    "        \n",
    "    def move(self, dx, dy):\n",
    "        self.x += dx\n",
    "        self.y += dy\n",
    "        # update self.loc as well\n",
    "        self.loc = [self.x, self.y]\n",
    "    \n",
    "# 实例化：\n",
    "mark = Human('Mark')\n",
    "print(mark.name, mark.loc)\n",
    "mark.move(20, 10)\n",
    "print(mark.name, mark.loc)\n",
    "mark.move(-10, 5)\n",
    "print(mark.name, mark.loc)"
   ]
  },
  {
   "cell_type": "code",
   "execution_count": 40,
   "id": "532b8bb1-05ae-4266-b543-c30ac1e9828f",
   "metadata": {},
   "outputs": [
    {
     "name": "stdout",
     "output_type": "stream",
     "text": [
      "50.0\n"
     ]
    }
   ],
   "source": [
    "# 在上面的例子里，我们构建了一个Human类，有属性xy还有基于xy的loc信息。然后我们设置了一个属于这个类未来所有实例的方法move，可以\n",
    "# 实现后续对位置xy和loc的修改。不过这个修改只改变了内部的信息， 没有返回任何值。其实class的对象函数也可以像一般的函数一样返回给外部。\n",
    "# 例如我们基于上面的例子，加入一个函数用来获取当前坐标离坐标原点（0，0）的欧几里得距离.因为这个计算只需要内部变量x，y，所以不需要任何外部输入\n",
    "class Human():\n",
    "    def __init__(self, name=\"__nobody__\", x=0, y=0):\n",
    "        self.name = name # 默认名称为‘nobody’\n",
    "        self.x = x # 初始位置在（0，0）\n",
    "        self.y = y\n",
    "        self.loc = [self.x, self.y]\n",
    "        \n",
    "    def move(self, dx, dy):\n",
    "        self.x += dx\n",
    "        self.y += dy\n",
    "        # update self.loc as well\n",
    "        self.loc = [self.x, self.y]\n",
    "    \n",
    "    def get_distance(self):\n",
    "        return (self.x**2 + self.y**2)**0.5 # python中n次方用**n表示\n",
    "        \n",
    "# 实例化：\n",
    "mark = Human('Mark')\n",
    "mark.move(30, 40)\n",
    "distance = mark.get_distance() # 不需要外部输入，因为只需内部变量即可\n",
    "print(distance)"
   ]
  },
  {
   "cell_type": "code",
   "execution_count": 41,
   "id": "ff8d5fc4-89c2-4a8a-bf54-6f26eceec441",
   "metadata": {},
   "outputs": [],
   "source": [
    "# 练习： 根据上面的例子，改写get_distance函数，使其接受外部输入，外部输入为一个list，比如[x, y].\n",
    "# 要求get_distance返回目前距离该[x,y]的距离而不是原点的距离。"
   ]
  },
  {
   "cell_type": "code",
   "execution_count": 42,
   "id": "3bec09c8-805f-41a2-a50c-a3469bff6e59",
   "metadata": {},
   "outputs": [],
   "source": [
    "# 到此为止，我们已经学习玩了class如何定义，init函数怎么写，能干嘛，以及内部函数怎么写，怎么用。\n",
    "# 现在我们完全可以利用class来创作自己需要的对象从而解决很多实际问题。"
   ]
  },
  {
   "cell_type": "code",
   "execution_count": 74,
   "id": "b3d057ca-fe0a-440f-898d-631fab5be782",
   "metadata": {},
   "outputs": [
    {
     "name": "stdout",
     "output_type": "stream",
     "text": [
      "I will be back\n"
     ]
    }
   ],
   "source": [
    "# 补充： class的类方法，或者叫做静态方法。\n",
    "# 之前我们教学的class定义里，所有的方法都要带self参数作为第一个默认参数，这是因为我们要求这些方法都属于这个类要实例化的各个对象。\n",
    "# 如果我们不需要这些方法属于实例呢？ 比如说我希望每个实例都有一个完全相同的方法，这个方法和哪一个实例无关，只是属于这个类定义的。\n",
    "# 又或者我之需要一个类似于全局函数一样的方法，但是这个函数为了不跟全局函数冲突，所以我们放入一个class里封装。\n",
    "# 类方法或者说静态方法就可以满足这个要求。其声明方法也非常简单，和一般带self的实例方法一样，只需要将self从参数列表中去除即可。\n",
    "# 注意：由于我们不把self传入静态函数内，所以所有特属于类的属性和方法在该方法内部都会变成未定义，即其内部不可以出现任何self.x 或者self.func(),诸如此类。\n",
    "\n",
    "# example 1:\n",
    "class Human():\n",
    "    def __init__(self, name=\"__nobody__\", x=0, y=0):\n",
    "        self.name = name # 默认名称为‘nobody’\n",
    "        self.x = x # 初始位置在（0，0）\n",
    "        self.y = y\n",
    "        self.loc = [self.x, self.y]\n",
    "        \n",
    "    def move(self, dx, dy):\n",
    "        self.x += dx\n",
    "        self.y += dy\n",
    "        # update self.loc as well\n",
    "        self.loc = [self.x, self.y]\n",
    "    \n",
    "    def get_distance(self):\n",
    "        return (self.x**2 + self.y**2)**0.5 # python中n次方用**n表示\n",
    "        \n",
    "        \n",
    "    # 类方法，静态方法, 重复输入的字符串\n",
    "    def repeat_print(s):\n",
    "        # 此处不可以出现self.x, self.y 或者 self.get_distance()，因为这个函数内部根本不知道self是什么！没有把self传进来。\n",
    "        print(s)\n",
    "\n",
    "Joe = Human('Joe')\n",
    "# 错误方法：\n",
    "# Joe.repeat_print(\"I will be back\") # 观察错误信息&思考： 其实因为此处的Joe.repeat_print() 等于 Human.repeat_print(Joe, \"I will be back\")\n",
    "# 而repeat_print这个方法其实只需要一个字符串作为输入即可，根本不需要Joe。所以错误信息是:TypeError: Human.repeat_print() takes 1 positional argument but 2 were given\n",
    "\n",
    "# 有这个例子看出，其实调用实例方法也不过是一个python提供的语法糖，是先声明一个实例， 然后像调用静态方法一样，把实例作为第一个参数穿进去代替self来实现！！！\n",
    "\n",
    "\n",
    "# 正确方法：因为现在repeat_print方法不属于某一个实例了，只属于Human这个类，所以不能用某个实例比如Joe来call这个方法。\n",
    "Human.repeat_print(\"I will be back\")"
   ]
  },
  {
   "cell_type": "markdown",
   "id": "11a55c96-5f68-44fc-849d-846895a11068",
   "metadata": {},
   "source": [
    "## 类的继承"
   ]
  },
  {
   "cell_type": "code",
   "execution_count": 48,
   "id": "c439d7da-890f-417c-803b-ef6b86c75087",
   "metadata": {},
   "outputs": [],
   "source": [
    "# 类为什么要继承？\n",
    "# - 因为类虽然可以为实例对象提供蓝本，从而批量的产生很多实例，但是这种做法仍然不够高效。\n",
    "# 举个例子，刚才我们实现了一个Human类。具有一些基本属性和方法，但是现在我假如需要一个学生类，医生类，司机类，警察类，等等。这些\n",
    "# 类其实显然也是人，他们应该和Human一样，具有name，age，weight， height等等基础属性，也应该有很多共同的方法，比如move，get_distance等。\n",
    "# 而如果需要像和Human一样，每一个这样的类都重新写一遍class的定义，未免太没有效率了。而且也不符合直观，毕竟我们已经知道现实世界，这些对象已经是\n",
    "# 人类了，只不过他们彼此之间有共性也有不同而已。\n",
    "# 所以python世界里，我们也需要一个机制来重复利用已经定义好的class，来简化定义的新的类。好比现实里，已经知道一些更基础的概念之后，再去构建更具体的更高级的概念。"
   ]
  },
  {
   "cell_type": "code",
   "execution_count": 60,
   "id": "2ac3db13-acef-46a4-b4c6-248b3fe84bc6",
   "metadata": {},
   "outputs": [],
   "source": [
    "# 类的继承的实现就是，通过已经定义过的类，继承之后，先把基类（也叫父类）初始化函数执行一次，在像一般的类定义一样加入关于这个新类的定义即可。\n",
    "# 这样这个新类会自动拥有其父类的所有属性和方法，不需要再重新构造了。\n",
    "class Student(Human):\n",
    "    def __init__(self, grade=1):\n",
    "        super().__init__()\n",
    "        self.grade = grade\n",
    "# 以上是一个student类，继承自Human类，注意要把Human写到Student后面的括号里告诉python是继承这个类的。\n",
    "# 和一般的类一样第一个要写的是init函数。注意init函数的第一行，super().__init__()意思是把父类的初始化过程先执行一次，再执行我们要添加的心的初始化。\n",
    "# 此处super和init后的括号都留空即可，更早版本的python可能会出现不太一样的语法，不过python3只需要这样写就可以了。"
   ]
  },
  {
   "cell_type": "code",
   "execution_count": 61,
   "id": "bd6a380b-eeb5-4076-98d5-8a0fcbac16b0",
   "metadata": {},
   "outputs": [
    {
     "name": "stdout",
     "output_type": "stream",
     "text": [
      "6 __nobody__\n"
     ]
    }
   ],
   "source": [
    "# 我们用 Student来实例化。\n",
    "frank = Student( grade=6)\n",
    "print(frank.grade, frank.name)"
   ]
  },
  {
   "cell_type": "code",
   "execution_count": 63,
   "id": "2bb6f28a-90cf-44b2-9b8b-c117959fd0e5",
   "metadata": {},
   "outputs": [],
   "source": [
    "# 可以看到，此时的name属性仍然是nobody，这是因为父类的默认名字就是nobody，如果我们要让student类接受外部输入的名字，并且获得这个属性\n",
    "# 该如何做呢？\n",
    "class Student(Human):\n",
    "    def __init__(self, name, grade=1): # 和一般类一样，要接受初始值，必须在init里添加形式参数进行接受参数的工作\n",
    "        super().__init__(name=name) # 我们不需要单独写个self.name了，因为父类已经有了，这里我们在call父类的初始化函数时，把接受到的name当成参数穿进去即可。\n",
    "        self.grade = grade"
   ]
  },
  {
   "cell_type": "code",
   "execution_count": 65,
   "id": "b20bbfb4-a8ce-486a-bb25-25b7fa5b207f",
   "metadata": {},
   "outputs": [
    {
     "name": "stdout",
     "output_type": "stream",
     "text": [
      "6 frank\n"
     ]
    }
   ],
   "source": [
    "# 再试一次：\n",
    "frank = Student(name='frank', grade=6)\n",
    "print(frank.grade, frank.name)"
   ]
  },
  {
   "cell_type": "code",
   "execution_count": 66,
   "id": "25f5eb9f-4299-4f29-a4b8-e0194135232c",
   "metadata": {},
   "outputs": [],
   "source": [
    "# 看，此时frank的名字不再是nobody了，而是我们穿进去的frank。而我们只利用了父类的初始化函数。"
   ]
  },
  {
   "cell_type": "code",
   "execution_count": 69,
   "id": "602cd57e-0a6e-44d2-8867-f6aee52b13da",
   "metadata": {},
   "outputs": [
    {
     "name": "stdout",
     "output_type": "stream",
     "text": [
      "[0, 0]\n",
      "[10, 20]\n"
     ]
    }
   ],
   "source": [
    "# 上面的例子，我们利用了父类的初始化函数，就可以让子类拥有父类的属性，现在的问题是，属性解决了，方法（函数呢），怎么解决？\n",
    "# python的类继承机制让子类会自动拥有父类的所有方法。\n",
    "class Student(Human):\n",
    "    def __init__(self, name, grade=1): # 和一般类一样，要接受初始值，必须在init里添加形式参数进行接受参数的工作\n",
    "        super().__init__(name=name) # 我们不需要单独写个self.name了，因为父类已经有了，这里我们在call父类的初始化函数时，把接受到的name当成参数穿进去即可。\n",
    "        self.grade = grade\n",
    "frank = Student(name='frank', grade=6)\n",
    "print(frank.loc)\n",
    "frank.move(10, 20)\n",
    "print(frank.loc)"
   ]
  },
  {
   "cell_type": "code",
   "execution_count": 71,
   "id": "fa8edd15-35e6-4c4c-89c9-be3e1c16ccbd",
   "metadata": {},
   "outputs": [
    {
     "name": "stdout",
     "output_type": "stream",
     "text": [
      "[0, 0]\n",
      "Old coordinates: (0, 0)\n",
      "Old coordinates: (10, 20)\n",
      "[10, 20]\n"
     ]
    }
   ],
   "source": [
    "# 注意我们并没有定义Stduent类的move方法，但是student类已具有这个方法了。\n",
    "# 剩下的问题是，如果我需要在子类里添加新的方法，显然只需要用一般的def在内部进行定义就行了。\n",
    "# 可是如果我不喜欢父类中的定义怎么办，比如我希望在上面的父类的move方法中，添加一个功能，可以打印出移动前和移动后的坐标点。子类中如何修改？\n",
    "# 答案：在子类中重写（overwrite）父类的方法即可，这种重写可以是直接全部重写，也可以是对已有的方法进行装饰或者封装（涉及装饰器操作符@，暂时不介绍）。\n",
    "class Student(Human):\n",
    "    def __init__(self, name, grade=1): # 和一般类一样，要接受初始值，必须在init里添加形式参数进行接受参数的工作\n",
    "        super().__init__(name=name) # 我们不需要单独写个self.name了，因为父类已经有了，这里我们在call父类的初始化函数时，把接受到的name当成参数穿进去即可。\n",
    "        self.grade = grade\n",
    "       \n",
    "    # 完全重写父类的方法move, 类只会追踪最新的方法定义。\n",
    "    def move(self, dx, dy):\n",
    "        #加入print\n",
    "        print('Old coordinates:', (self.x, self.y))\n",
    "        self.x += dx\n",
    "        self.y += dy\n",
    "        print('Old coordinates:', (self.x, self.y))\n",
    "        self.loc = [self.x, self.y]\n",
    "    \n",
    "frank = Student(name='frank', grade=6)\n",
    "print(frank.loc)\n",
    "frank.move(10, 20)\n",
    "print(frank.loc)"
   ]
  },
  {
   "cell_type": "code",
   "execution_count": 87,
   "id": "8f24dcbe-dc26-4607-8a89-471bb4064f71",
   "metadata": {},
   "outputs": [
    {
     "name": "stdout",
     "output_type": "stream",
     "text": [
      "[0, 0]\n",
      "Old coordinates: (0, 0)\n",
      "New coordinates: (10, 20)\n",
      "[10, 20]\n"
     ]
    }
   ],
   "source": [
    "# 或者进行装饰，此种处理不需要我们知道父类的方法的细节，适用于代码无法开源或者无法获取源码的情况。\n",
    "class Student(Human):\n",
    "    def __init__(self, name, grade=1): # 和一般类一样，要接受初始值，必须在init里添加形式参数进行接受参数的工作\n",
    "        super().__init__(name=name) # 我们不需要单独写个self.name了，因为父类已经有了，这里我们在call父类的初始化函数时，把接受到的name当成参数穿进去即可。\n",
    "        self.grade = grade\n",
    "\n",
    "        # 基于父类改写, 先保存原始父类的方法\n",
    "        self._parent_move = super().move # 注意此处要用的super(),不能用self\n",
    "        \n",
    "    def move(self, dx, dy):\n",
    "        print('Old coordinates:', (self.x, self.y))\n",
    "        self._parent_move(dx, dy)\n",
    "        print('New coordinates:', (self.x, self.y))\n",
    "        \n",
    "        \n",
    "frank = Student(name='frank', grade=6)\n",
    "print(frank.loc)\n",
    "frank.move(10, 20)\n",
    "print(frank.loc)"
   ]
  },
  {
   "cell_type": "code",
   "execution_count": null,
   "id": "740a3699-0e4f-45bd-bcf3-65a4f92347de",
   "metadata": {},
   "outputs": [],
   "source": []
  }
 ],
 "metadata": {
  "kernelspec": {
   "display_name": "py3.10_torch",
   "language": "python",
   "name": "py3.10_torch"
  },
  "language_info": {
   "codemirror_mode": {
    "name": "ipython",
    "version": 3
   },
   "file_extension": ".py",
   "mimetype": "text/x-python",
   "name": "python",
   "nbconvert_exporter": "python",
   "pygments_lexer": "ipython3",
   "version": "3.10.5"
  }
 },
 "nbformat": 4,
 "nbformat_minor": 5
}
