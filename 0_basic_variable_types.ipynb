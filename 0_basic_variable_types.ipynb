{
 "cells": [
  {
   "cell_type": "markdown",
   "id": "5b606376-f9e6-4792-a177-54c3be92e801",
   "metadata": {},
   "source": [
    "# 本篇介绍python的基础数据类型"
   ]
  },
  {
   "cell_type": "code",
   "execution_count": null,
   "id": "00390bbc-9c4c-47b3-adda-eb42cf2b2051",
   "metadata": {},
   "outputs": [],
   "source": [
    "# useful functions:\n",
    "# type() returns the type of the input\n",
    "# len() returns the length of the input if it has such a property\n",
    "# print() 打印函数，可以有多种输入形式。"
   ]
  },
  {
   "cell_type": "code",
   "execution_count": null,
   "id": "f931fde1-7b69-40c3-8e92-2571740a5e57",
   "metadata": {},
   "outputs": [],
   "source": [
    "# 数字： 整数int，浮点数float，python不需要在定义数字变量的时候给定类型，\n",
    "# 但是会自动根据数字确定类型。注意：python是强类型语言，不用定义声明不代表是弱类型。\n",
    "a = 1\n",
    "b = 1.1\n",
    "print(type(a), type(b))"
   ]
  },
  {
   "cell_type": "code",
   "execution_count": 7,
   "id": "1c1e6c05-97f3-4554-b657-cd5bf283f2cf",
   "metadata": {},
   "outputs": [
    {
     "name": "stdout",
     "output_type": "stream",
     "text": [
      "1\n",
      "1.0\n",
      "1\n"
     ]
    }
   ],
   "source": [
    "# 不同类型可以转换，用int（）或者float（）即可, 注意float即便值是整数也会带小数点。\n",
    "a = 1\n",
    "print(a)\n",
    "b = float(a)\n",
    "print(b)\n",
    "c = int(1.1)\n",
    "print(c)"
   ]
  },
  {
   "cell_type": "code",
   "execution_count": 8,
   "id": "061b0298-eaf9-49b2-9c67-3f007f5d2853",
   "metadata": {},
   "outputs": [
    {
     "name": "stdout",
     "output_type": "stream",
     "text": [
      "<class 'bool'> <class 'bool'>\n",
      "False\n"
     ]
    }
   ],
   "source": [
    "# 真假值，又叫布尔值 bool， 只有True和False两种。通常为判断语句的返回类型。\n",
    "a = True\n",
    "b = False\n",
    "print(type(a), type(b))\n",
    "c = 50>100\n",
    "print(c)"
   ]
  },
  {
   "cell_type": "code",
   "execution_count": 5,
   "id": "d8313f2b-cb51-407a-9927-9c9e8a9f55fe",
   "metadata": {},
   "outputs": [
    {
     "name": "stdout",
     "output_type": "stream",
     "text": [
      "True False\n"
     ]
    }
   ],
   "source": [
    "# bool值可以和not配合来取反意\n",
    "a = True\n",
    "b = not a\n",
    "print(a, b)"
   ]
  },
  {
   "cell_type": "code",
   "execution_count": 12,
   "id": "b6b6cce1-7cd0-495f-bd16-ccdfcd138cd9",
   "metadata": {},
   "outputs": [
    {
     "name": "stdout",
     "output_type": "stream",
     "text": [
      "1 1\n",
      "<class 'int'> <class 'str'>\n"
     ]
    }
   ],
   "source": [
    "# 字符串 string 任何被“”或者‘’包括起来的对象都是字符串。其他的类型例如数字可以转化成字符串, 但是显示的时候jupyter不会显示引号，注意区分。\n",
    "a = 1\n",
    "str_a = str(a)\n",
    "print(a, str_a)\n",
    "print(type(a), type(str_a))"
   ]
  },
  {
   "cell_type": "code",
   "execution_count": 20,
   "id": "73b71f6b-982a-46f8-9938-e25f4a6866b5",
   "metadata": {},
   "outputs": [
    {
     "name": "stdout",
     "output_type": "stream",
     "text": [
      "True\n",
      "Apple tastes good\n"
     ]
    }
   ],
   "source": [
    "# 字符串可以进行进行广义上的加减法，即把字符串连起来。\n",
    "name1 = 'Apple'\n",
    "name2 = \"Apple\"\n",
    "print(name1==name2)\n",
    "print(name1+\" tastes good\")"
   ]
  },
  {
   "cell_type": "code",
   "execution_count": 24,
   "id": "129ae4ea-2b81-4859-b89d-6615df0bcfb4",
   "metadata": {},
   "outputs": [
    {
     "name": "stdout",
     "output_type": "stream",
     "text": [
      "The second element in this string is 爱\n",
      "我\n",
      "爱\n",
      "p\n",
      "y\n",
      "t\n",
      "h\n",
      "o\n",
      "n\n",
      "长度： 8\n"
     ]
    }
   ],
   "source": [
    "# 因为字符串类似于把一连串的单一字符串进行有序排列得到，所以配备了类似于列表的index访问功能。\n",
    "# 也可以通过index来访问某一个字符。这取决于字符串的编码方式。由此也不难猜到，字符串也可以被视为一个iterable，被for循环识别\n",
    "# 汉字是双字节字符，一个汉字是一个字符单位，而英语字母是单字节字符。\n",
    "name = \"我爱python\"\n",
    "print(\"The second element in this string is \"+str(name[1]))\n",
    "for x in name:\n",
    "    print(x)\n",
    "print(\"长度：\", len(name))"
   ]
  },
  {
   "cell_type": "code",
   "execution_count": 27,
   "id": "0466cfe2-b235-4578-a490-4a0148bcf9b0",
   "metadata": {},
   "outputs": [
    {
     "name": "stdout",
     "output_type": "stream",
     "text": [
      "1+2=3 1 / 3 = 0.3333333333333333 1 / 3 = 0.33\n"
     ]
    }
   ],
   "source": [
    "# 字符串的格式化输出方法有很多，推荐使用f-string方法。在字符串前面加f即可，替换值用{value:format}来表示。\n",
    "# format包含精度信息，可省略。\n",
    "a = 1\n",
    "b = 2\n",
    "c = 3\n",
    "s1 = f\"{a}+{b}={a+b}\"\n",
    "s2 = f\"{a} / {c} = {a/c}\"\n",
    "s3 = f\"{a} / {c} = {a/c:.2f}\" # 思考：搜索更多关于format的格式信息，例如如何控制小数点前后的位数，如何左补0，等等。\n",
    "print(s1, s2, s3)"
   ]
  },
  {
   "cell_type": "code",
   "execution_count": null,
   "id": "64397c37-5295-4272-a685-aa24b2e9c896",
   "metadata": {},
   "outputs": [],
   "source": [
    "# python 含有的基础对象类型还有其他的，但是最常用的是以上这几类。"
   ]
  },
  {
   "cell_type": "code",
   "execution_count": null,
   "id": "2698d9c0-54c6-4b8e-ab3b-48762d044439",
   "metadata": {},
   "outputs": [],
   "source": [
    "# 思考题：\n",
    "# python被称作完全面向对象语言，所有python中的东西都是对象。我们还没有介绍什么是对象，但是思考一下，这些基础变量他们是对象吗？还是单独的一类东西？"
   ]
  }
 ],
 "metadata": {
  "kernelspec": {
   "display_name": "py3.10_torch",
   "language": "python",
   "name": "py3.10_torch"
  },
  "language_info": {
   "codemirror_mode": {
    "name": "ipython",
    "version": 3
   },
   "file_extension": ".py",
   "mimetype": "text/x-python",
   "name": "python",
   "nbconvert_exporter": "python",
   "pygments_lexer": "ipython3",
   "version": "3.10.5"
  }
 },
 "nbformat": 4,
 "nbformat_minor": 5
}
