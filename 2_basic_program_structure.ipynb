{
 "cells": [
  {
   "cell_type": "markdown",
   "id": "084651bb-b6ff-48fc-8de0-099f7b53b44e",
   "metadata": {},
   "source": [
    "# 本notebook介绍基本的python程序结构\n",
    "1. if及其衍生结构\n",
    "2. 循环体while和loop\n",
    "3. 循环体的控制关键字break和continue\n",
    "4. 生成器generator和在列表中利用循环生成器产生元素"
   ]
  },
  {
   "cell_type": "code",
   "execution_count": 6,
   "id": "776998b1-4978-4175-b1d3-f66249ce81f2",
   "metadata": {},
   "outputs": [
    {
     "name": "stdout",
     "output_type": "stream",
     "text": [
      "This is first True.\n",
      "50 < 100 is True\n"
     ]
    }
   ],
   "source": [
    "# if判断结构，后面必须跟一个bool类型，如果为True则进入结构\n",
    "if True:\n",
    "    print(\"This is first True.\")\n",
    "if 50 < 100: # 50 < 100 表达式返回True\n",
    "    print(\"50 < 100 is True\")"
   ]
  },
  {
   "cell_type": "code",
   "execution_count": 3,
   "id": "a9071c72-5024-4f2c-99a0-1741a3d27024",
   "metadata": {},
   "outputs": [
    {
     "name": "stdout",
     "output_type": "stream",
     "text": [
      "This will be executed since 50 < 100\n"
     ]
    }
   ],
   "source": [
    "# 在if后如果想执行False对应的结果，可加else结构：\n",
    "if 50 > 100:\n",
    "    print(\"This will not be executed\")\n",
    "else:\n",
    "    print(\"This will be executed since 50 < 100\")"
   ]
  },
  {
   "cell_type": "code",
   "execution_count": 4,
   "id": "89414faf-a713-4751-a774-0503c6bf7732",
   "metadata": {},
   "outputs": [
    {
     "name": "stdout",
     "output_type": "stream",
     "text": [
      "This is True\n"
     ]
    }
   ],
   "source": [
    "# 如果有多个判断依次进行，可对if进行嵌套：\n",
    "if False:\n",
    "    pass # do nothing\n",
    "else:\n",
    "    if True:\n",
    "        print(\"This is True\")"
   ]
  },
  {
   "cell_type": "code",
   "execution_count": 5,
   "id": "c6ce4fbb-a641-42cb-a0d4-0ce537b590c8",
   "metadata": {},
   "outputs": [
    {
     "name": "stdout",
     "output_type": "stream",
     "text": [
      "elif is a simpler shortcut\n"
     ]
    }
   ],
   "source": [
    "# else 和新的if可以缩写成elif来简化结构。\n",
    "if False:\n",
    "    pass \n",
    "elif True:\n",
    "    print(\"elif is a simpler shortcut\")"
   ]
  },
  {
   "cell_type": "code",
   "execution_count": 5,
   "id": "f740b7f2-50d3-49ee-b84e-51eb2e8874d7",
   "metadata": {},
   "outputs": [
    {
     "name": "stdout",
     "output_type": "stream",
     "text": [
      "10\n"
     ]
    }
   ],
   "source": [
    "# 注意：有时候我们的判断比较简单，可以把if else的机构和他们要返回的对象写在一行里面来简化代码，同时提高效率。\n",
    "# 如下面的例子：\n",
    "\n",
    "a = 10\n",
    "b = 20\n",
    "result = a if a < b else b # 当 a < b时返回a，否则返回b。注意这种用法必须明确if和else分别对应的返回值，不能只用一个单独if。\n",
    "print(result)"
   ]
  },
  {
   "cell_type": "code",
   "execution_count": 4,
   "id": "3ad965d5-d61f-4c0a-ba11-4652652a3f10",
   "metadata": {},
   "outputs": [
    {
     "name": "stdout",
     "output_type": "stream",
     "text": [
      "10\n"
     ]
    }
   ],
   "source": [
    "# 如果只有if，不需要else，可以把if后面的分支写在if的同一行\n",
    "a = 10\n",
    "b = 20\n",
    "if a < b: print(a)"
   ]
  },
  {
   "cell_type": "code",
   "execution_count": 11,
   "id": "3d97e4fb-bbf1-45a8-8709-9c50d28e3a00",
   "metadata": {},
   "outputs": [
    {
     "name": "stdout",
     "output_type": "stream",
     "text": [
      "1\n",
      "2\n",
      "3\n",
      "4\n",
      "5\n",
      "6\n",
      "7\n",
      "8\n",
      "9\n"
     ]
    }
   ],
   "source": [
    "# 循环结构 while， 类似于if后面必须跟bool类型。当True时执行循环，否则结束循环\n",
    "# 适用于无法提前预知循环次数时的循环体, 循环体内要对相关变量进行修改，否则进入死循环。--》 因为根本不改变while后的condition\n",
    "x = 1\n",
    "while x % 10 != 0:\n",
    "    print(x)\n",
    "    x += 1 # += 先加法再赋值\n",
    "    \n"
   ]
  },
  {
   "cell_type": "code",
   "execution_count": 13,
   "id": "aa978489-854e-4e95-bb45-7d1d26d581f6",
   "metadata": {},
   "outputs": [
    {
     "name": "stdout",
     "output_type": "stream",
     "text": [
      "range(0, 5) <class 'range'>\n",
      "0\n",
      "1\n",
      "2\n",
      "3\n",
      "4\n"
     ]
    }
   ],
   "source": [
    "# for。。。 in。。。 循环结构\n",
    "# 提前预知循环次数或者时已经有可循环对象的情况下使用，in后面加一个可循环对象，for后面加一个形式变量自动获取这个\n",
    "# 可循环对象每次输出的元素\n",
    "\n",
    "s = range(5)\n",
    "print(s, type(s)) # range是一个可循环对象，思考题：查阅python文档看看range函数返回的range类到底是什么？关键字：generator/生成器\n",
    "for i in s:\n",
    "    print(i)"
   ]
  },
  {
   "cell_type": "code",
   "execution_count": 14,
   "id": "2d07bdd2-0b12-4a9b-b0aa-3330bc1d4c24",
   "metadata": {},
   "outputs": [
    {
     "name": "stdout",
     "output_type": "stream",
     "text": [
      "Apple\n",
      "1\n",
      "True\n"
     ]
    }
   ],
   "source": [
    "# 常见的list，tuple等都是循环量：\n",
    "for i in [\"Apple\", 1, True]:\n",
    "    print(i)"
   ]
  },
  {
   "cell_type": "code",
   "execution_count": 16,
   "id": "e6f4ca0f-230e-43d0-aa63-e95dcf5302ce",
   "metadata": {},
   "outputs": [
    {
     "name": "stdout",
     "output_type": "stream",
     "text": [
      "<enumerate object at 0x105e70fc0> <class 'enumerate'>\n",
      "index: 0 value: Apple\n",
      "index: 1 value: 1\n",
      "index: 2 value: True\n"
     ]
    }
   ],
   "source": [
    "# for循环不需要类似C语言那样，通过index来获取元素，可以直接智能获取循环量的对应元素。\n",
    "# 如果循环中需要同时用的index和对应的元素。用enumerate函数将一般可循环量变成一个同时输出\n",
    "# index和元素的循环量,属于enumerate类，此时for后面跟两个变量来代表index 和 元素。\n",
    "s = enumerate([\"Apple\", 1, True])\n",
    "print(s, type(s))\n",
    "for i, v in s:\n",
    "    print(\"index:\", i, \"value:\", v)"
   ]
  },
  {
   "cell_type": "code",
   "execution_count": 1,
   "id": "252102bc-52a2-48c3-8820-76bf8945d3c9",
   "metadata": {},
   "outputs": [
    {
     "name": "stdout",
     "output_type": "stream",
     "text": [
      "index: 0 value: Apple\n",
      "index: 1 value: 1\n",
      "index: 2 value: True\n"
     ]
    }
   ],
   "source": [
    "# 或者更简单一些：\n",
    "for i, v in enumerate([\"Apple\", 1, True]):\n",
    "    print(\"index:\", i, \"value:\", v)   "
   ]
  },
  {
   "cell_type": "code",
   "execution_count": 18,
   "id": "65e337e4-7819-4c04-8ad8-41bb16874cc0",
   "metadata": {},
   "outputs": [
    {
     "name": "stdout",
     "output_type": "stream",
     "text": [
      "0\n",
      "1\n",
      "2\n",
      "3\n",
      "4\n",
      "early stop at 5\n"
     ]
    }
   ],
   "source": [
    "# 为了更多元化控制循环结构，python关键字continue和break可以修改循环的行为\n",
    "# 同时适用于while和for\n",
    "# break 可以直接退出循环\n",
    "for i in range(10):\n",
    "    if i == 5:\n",
    "        print(\"early stop at 5\")\n",
    "        break\n",
    "    print(i)"
   ]
  },
  {
   "cell_type": "code",
   "execution_count": 22,
   "id": "05f407d6-4b77-4a04-95a2-566313027ad1",
   "metadata": {},
   "outputs": [
    {
     "name": "stdout",
     "output_type": "stream",
     "text": [
      "1\n",
      "2\n",
      "3是3的倍数，跳过\n",
      "4\n",
      "5\n",
      "6是3的倍数，跳过\n",
      "7\n",
      "8\n",
      "9是3的倍数，跳过\n"
     ]
    }
   ],
   "source": [
    "# continue 可以用于跳过剩下的循环体，进入下一个循环周期\n",
    "i = 1\n",
    "while i < 10:\n",
    "    if i % 3 == 0:\n",
    "        print(f\"{i}是3的倍数，跳过\")\n",
    "        i += 1\n",
    "        continue\n",
    "    print(i)\n",
    "    i += 1"
   ]
  },
  {
   "cell_type": "code",
   "execution_count": 9,
   "id": "f137d500-bb19-41f8-8785-4778c5ab1fd9",
   "metadata": {},
   "outputs": [
    {
     "data": {
      "text/plain": [
       "<generator object my_gen at 0x110219380>"
      ]
     },
     "execution_count": 9,
     "metadata": {},
     "output_type": "execute_result"
    }
   ],
   "source": [
    "\"\"\"\n",
    "for循环可以帮助我们构建生成器，generator。\n",
    "generator是python中一类重要的对象，用处非常广泛，作为初学基础不在此处细说，可以把generator理解成一个利用规则生成对象的工具。\n",
    "在声明生成器的时候，生成器只会记住规则，不会真的把需要的对象产生出来，等到需要用的时候，比如call它的next方法的时候，才会根据事先约定好的方\n",
    "法把对象生产出来。每次生成一个，直到次数达到预先规定时的上限就停止。生成器定义在一个函数里，利用for循环和yield关键字构建。\n",
    "python看到这个结构就知道这是个生成器，所以不会真的执行for循环，而是把这个循环记住，等到真的需要用的时候(必须call这个函数的生成函数才可以，例如next方法)在执行。\n",
    "\"\"\"\n",
    "def my_gen(n:int):\n",
    "    for i in range(n):\n",
    "        print(i)\n",
    "        yield i\n",
    "my_gen(3) # 此时虽然我们call了这个函数，但是没有执行，反而是返回了一个generator对象给我们"
   ]
  },
  {
   "cell_type": "code",
   "execution_count": 16,
   "id": "252a6637-8c67-4d03-ac2e-b602a1f9de63",
   "metadata": {},
   "outputs": [
    {
     "name": "stdout",
     "output_type": "stream",
     "text": [
      "0\n",
      "1\n",
      "1\n",
      "2\n",
      "2\n"
     ]
    },
    {
     "ename": "StopIteration",
     "evalue": "",
     "output_type": "error",
     "traceback": [
      "\u001b[0;31m---------------------------------------------------------------------------\u001b[0m",
      "\u001b[0;31mStopIteration\u001b[0m                             Traceback (most recent call last)",
      "Input \u001b[0;32mIn [16]\u001b[0m, in \u001b[0;36m<cell line: 8>\u001b[0;34m()\u001b[0m\n\u001b[1;32m      6\u001b[0m \u001b[38;5;28mprint\u001b[39m(\u001b[38;5;28mnext\u001b[39m(gen)) \u001b[38;5;66;03m# 注意内部打印一次，这里又打印一次\u001b[39;00m\n\u001b[1;32m      7\u001b[0m \u001b[38;5;28mprint\u001b[39m(\u001b[38;5;28mnext\u001b[39m(gen))\n\u001b[0;32m----> 8\u001b[0m \u001b[38;5;28mprint\u001b[39m(\u001b[38;5;28;43mnext\u001b[39;49m\u001b[43m(\u001b[49m\u001b[43mgen\u001b[49m\u001b[43m)\u001b[49m)\n",
      "\u001b[0;31mStopIteration\u001b[0m: "
     ]
    }
   ],
   "source": [
    "# 如果需要真的让生成器产生结构，用next方法。\n",
    "gen = my_gen(3) # 初始化一个生成器\n",
    "res = next(gen) # 开始执行一次，内部打印一个0， 把 0 个res\n",
    "\n",
    "# 继续call next函数，gen会从上次开始的地方继续产生数字, 直到生成器耗尽，run out\n",
    "print(next(gen)) # 注意内部打印一次，这里又打印一次\n",
    "print(next(gen))\n",
    "print(next(gen)) # 此处gen已经耗尽了，所以报错StopIteration"
   ]
  },
  {
   "cell_type": "code",
   "execution_count": 19,
   "id": "884300c6-9754-4010-963b-71355f3fbcb2",
   "metadata": {},
   "outputs": [
    {
     "name": "stdout",
     "output_type": "stream",
     "text": [
      "<generator object <genexpr> at 0x112860ac0> <generator object <genexpr> at 0x1128605f0>\n"
     ]
    }
   ],
   "source": [
    "\"\"\"\n",
    "除了用函数定义的办法来创建生成器，还可以用tuple来做, 按照如下语法即可，先把要循环生成的量，不论多复杂都可以写出来，然后在后面跟for循环\n",
    "\"\"\"\n",
    "n = 10\n",
    "simple_gen = (i for i in range(n))\n",
    "complex_gen = (i**2 if i % 2 == 0 else 0 for i in range(n))\n",
    "print(simple_gen, complex_gen)"
   ]
  },
  {
   "cell_type": "code",
   "execution_count": 34,
   "id": "89fe4a2c-65b9-48cf-bb51-c7c93db76680",
   "metadata": {},
   "outputs": [
    {
     "data": {
      "text/plain": [
       "'\\n有了这种定义，我们可以利用这个方法快速生成想要的数据结构\\n直接把tuple的（）替换成list的[]，python会自动的利用生成器去填充一个列表直到生成器被耗尽。\\n'"
      ]
     },
     "execution_count": 34,
     "metadata": {},
     "output_type": "execute_result"
    }
   ],
   "source": [
    "\"\"\"\n",
    "有了这种定义，我们可以利用这个方法快速生成想要的数据结构\n",
    "直接把tuple的（）替换成list的[]，python会自动的利用生成器去填充一个列表直到生成器被耗尽。\n",
    "\"\"\""
   ]
  },
  {
   "cell_type": "code",
   "execution_count": 35,
   "id": "87b4ecba-0c79-46df-926a-ee32a7aeae71",
   "metadata": {},
   "outputs": [
    {
     "name": "stdout",
     "output_type": "stream",
     "text": [
      "[0, 1, 2, 3, 4, 5, 6, 7, 8, 9, 10, 11, 12, 13, 14, 15, 16, 17, 18, 19, 20, 21, 22, 23, 24, 25, 26, 27, 28, 29, 30, 31, 32, 33, 34, 35, 36, 37, 38, 39, 40, 41, 42, 43, 44, 45, 46, 47, 48, 49, 50, 51, 52, 53, 54, 55, 56, 57, 58, 59, 60, 61, 62, 63, 64, 65, 66, 67, 68, 69, 70, 71, 72, 73, 74, 75, 76, 77, 78, 79, 80, 81, 82, 83, 84, 85, 86, 87, 88, 89, 90, 91, 92, 93, 94, 95, 96, 97, 98, 99]\n"
     ]
    }
   ],
   "source": [
    "# 假设我们要生成一个0-100内数的列表，一般方法如下：\n",
    "res = []\n",
    "for i in range(100):\n",
    "    res.append(i)\n",
    "print(res)"
   ]
  },
  {
   "cell_type": "code",
   "execution_count": 38,
   "id": "a598777c-ef1b-4a47-9270-49eed1541758",
   "metadata": {},
   "outputs": [
    {
     "name": "stdout",
     "output_type": "stream",
     "text": [
      "[0, 1, 2, 3, 4, 5, 6, 7, 8, 9, 10, 11, 12, 13, 14, 15, 16, 17, 18, 19, 20, 21, 22, 23, 24, 25, 26, 27, 28, 29, 30, 31, 32, 33, 34, 35, 36, 37, 38, 39, 40, 41, 42, 43, 44, 45, 46, 47, 48, 49, 50, 51, 52, 53, 54, 55, 56, 57, 58, 59, 60, 61, 62, 63, 64, 65, 66, 67, 68, 69, 70, 71, 72, 73, 74, 75, 76, 77, 78, 79, 80, 81, 82, 83, 84, 85, 86, 87, 88, 89, 90, 91, 92, 93, 94, 95, 96, 97, 98, 99]\n"
     ]
    }
   ],
   "source": [
    "# 假设我们要生成一个0-100内偶数的list，利用列表生成器：\n",
    "res = [i for i in range(100)] # 这里注意只需要list的方括号即可，不再需要生成器的（），这是python提供的一个语法糖。相当于：list((i for i in range(100)))\n",
    "print(res)"
   ]
  },
  {
   "cell_type": "code",
   "execution_count": null,
   "id": "7566a045-523b-4320-be94-7901cd5baac8",
   "metadata": {},
   "outputs": [],
   "source": []
  }
 ],
 "metadata": {
  "kernelspec": {
   "display_name": "py3.10_torch",
   "language": "python",
   "name": "py3.10_torch"
  },
  "language_info": {
   "codemirror_mode": {
    "name": "ipython",
    "version": 3
   },
   "file_extension": ".py",
   "mimetype": "text/x-python",
   "name": "python",
   "nbconvert_exporter": "python",
   "pygments_lexer": "ipython3",
   "version": "3.10.5"
  }
 },
 "nbformat": 4,
 "nbformat_minor": 5
}
