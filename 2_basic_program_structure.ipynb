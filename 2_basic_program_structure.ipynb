{
 "cells": [
  {
   "cell_type": "markdown",
   "id": "084651bb-b6ff-48fc-8de0-099f7b53b44e",
   "metadata": {},
   "source": [
    "# 本notebook介绍基本的python程序结构\n",
    "1. if及其衍生结构\n",
    "2. 循环体while和loop"
   ]
  },
  {
   "cell_type": "code",
   "execution_count": 6,
   "id": "776998b1-4978-4175-b1d3-f66249ce81f2",
   "metadata": {},
   "outputs": [
    {
     "name": "stdout",
     "output_type": "stream",
     "text": [
      "This is first True.\n",
      "50 < 100 is True\n"
     ]
    }
   ],
   "source": [
    "# if判断结构，后面必须跟一个bool类型，如果为True则进入结构\n",
    "if True:\n",
    "    print(\"This is first True.\")\n",
    "if 50 < 100: # 50 < 100 表达式返回True\n",
    "    print(\"50 < 100 is True\")"
   ]
  },
  {
   "cell_type": "code",
   "execution_count": 3,
   "id": "a9071c72-5024-4f2c-99a0-1741a3d27024",
   "metadata": {},
   "outputs": [
    {
     "name": "stdout",
     "output_type": "stream",
     "text": [
      "This will be executed since 50 < 100\n"
     ]
    }
   ],
   "source": [
    "# 在if后如果想执行False对应的结果，可加else结构：\n",
    "if 50 > 100:\n",
    "    print(\"This will not be executed\")\n",
    "else:\n",
    "    print(\"This will be executed since 50 < 100\")"
   ]
  },
  {
   "cell_type": "code",
   "execution_count": 4,
   "id": "89414faf-a713-4751-a774-0503c6bf7732",
   "metadata": {},
   "outputs": [
    {
     "name": "stdout",
     "output_type": "stream",
     "text": [
      "This is True\n"
     ]
    }
   ],
   "source": [
    "# 如果有多个判断依次进行，可对if进行嵌套：\n",
    "if False:\n",
    "    pass # do nothing\n",
    "else:\n",
    "    if True:\n",
    "        print(\"This is True\")"
   ]
  },
  {
   "cell_type": "code",
   "execution_count": 5,
   "id": "c6ce4fbb-a641-42cb-a0d4-0ce537b590c8",
   "metadata": {},
   "outputs": [
    {
     "name": "stdout",
     "output_type": "stream",
     "text": [
      "elif is a simpler shortcut\n"
     ]
    }
   ],
   "source": [
    "# else 和新的if可以缩写成elif来简化结构。\n",
    "if False:\n",
    "    pass \n",
    "elif True:\n",
    "    print(\"elif is a simpler shortcut\")"
   ]
  },
  {
   "cell_type": "code",
   "execution_count": 11,
   "id": "3d97e4fb-bbf1-45a8-8709-9c50d28e3a00",
   "metadata": {},
   "outputs": [
    {
     "name": "stdout",
     "output_type": "stream",
     "text": [
      "1\n",
      "2\n",
      "3\n",
      "4\n",
      "5\n",
      "6\n",
      "7\n",
      "8\n",
      "9\n"
     ]
    }
   ],
   "source": [
    "# 循环结构 while， 类似于if后面必须跟bool类型。当True时执行循环，否则结束循环\n",
    "# 适用于无法提前预知循环次数时的循环体, 循环体内要对相关变量进行修改，否则进入死循环。--》 因为根本不改变while后的condition\n",
    "x = 1\n",
    "while x % 10 != 0:\n",
    "    print(x)\n",
    "    x += 1 # += 先加法再赋值\n",
    "    \n"
   ]
  },
  {
   "cell_type": "code",
   "execution_count": 13,
   "id": "aa978489-854e-4e95-bb45-7d1d26d581f6",
   "metadata": {},
   "outputs": [
    {
     "name": "stdout",
     "output_type": "stream",
     "text": [
      "range(0, 5) <class 'range'>\n",
      "0\n",
      "1\n",
      "2\n",
      "3\n",
      "4\n"
     ]
    }
   ],
   "source": [
    "# for。。。 in。。。 循环结构\n",
    "# 提前预知循环次数或者时已经有可循环对象的情况下使用，in后面加一个可循环对象，for后面加一个形式变量自动获取这个\n",
    "# 可循环对象每次输出的元素\n",
    "\n",
    "s = range(5)\n",
    "print(s, type(s)) # range是一个可循环对象，思考题：查阅python文档看看range函数返回的range类到底是什么？关键字：generator/生成器\n",
    "for i in s:\n",
    "    print(i)"
   ]
  },
  {
   "cell_type": "code",
   "execution_count": 14,
   "id": "2d07bdd2-0b12-4a9b-b0aa-3330bc1d4c24",
   "metadata": {},
   "outputs": [
    {
     "name": "stdout",
     "output_type": "stream",
     "text": [
      "Apple\n",
      "1\n",
      "True\n"
     ]
    }
   ],
   "source": [
    "# 常见的list，tuple等都是循环量：\n",
    "for i in [\"Apple\", 1, True]:\n",
    "    print(i)"
   ]
  },
  {
   "cell_type": "code",
   "execution_count": 16,
   "id": "e6f4ca0f-230e-43d0-aa63-e95dcf5302ce",
   "metadata": {},
   "outputs": [
    {
     "name": "stdout",
     "output_type": "stream",
     "text": [
      "<enumerate object at 0x105e70fc0> <class 'enumerate'>\n",
      "index: 0 value: Apple\n",
      "index: 1 value: 1\n",
      "index: 2 value: True\n"
     ]
    }
   ],
   "source": [
    "# for循环不需要类似C语言那样，通过index来获取元素，可以直接智能获取循环量的对应元素。\n",
    "# 如果循环中需要同时用的index和对应的元素。用enumerate函数将一般可循环量变成一个同时输出\n",
    "# index和元素的循环量,属于enumerate类，此时for后面跟两个变量来代表index 和 元素。\n",
    "s = enumerate([\"Apple\", 1, True])\n",
    "print(s, type(s))\n",
    "for i, v in s:\n",
    "    print(\"index:\", i, \"value:\", v)"
   ]
  },
  {
   "cell_type": "code",
   "execution_count": 18,
   "id": "65e337e4-7819-4c04-8ad8-41bb16874cc0",
   "metadata": {},
   "outputs": [
    {
     "name": "stdout",
     "output_type": "stream",
     "text": [
      "0\n",
      "1\n",
      "2\n",
      "3\n",
      "4\n",
      "early stop at 5\n"
     ]
    }
   ],
   "source": [
    "# 为了更多元化控制循环结构，python关键字continue和break可以修改循环的行为\n",
    "# 同时适用于while和for\n",
    "# break 可以直接退出循环\n",
    "for i in range(10):\n",
    "    if i == 5:\n",
    "        print(\"early stop at 5\")\n",
    "        break\n",
    "    print(i)"
   ]
  },
  {
   "cell_type": "code",
   "execution_count": 22,
   "id": "05f407d6-4b77-4a04-95a2-566313027ad1",
   "metadata": {},
   "outputs": [
    {
     "name": "stdout",
     "output_type": "stream",
     "text": [
      "1\n",
      "2\n",
      "3是3的倍数，跳过\n",
      "4\n",
      "5\n",
      "6是3的倍数，跳过\n",
      "7\n",
      "8\n",
      "9是3的倍数，跳过\n"
     ]
    }
   ],
   "source": [
    "# continue 可以用于跳过剩下的循环体，进入下一个循环周期\n",
    "i = 1\n",
    "while i < 10:\n",
    "    if i % 3 == 0:\n",
    "        print(f\"{i}是3的倍数，跳过\")\n",
    "        i += 1\n",
    "        continue\n",
    "    print(i)\n",
    "    i += 1"
   ]
  },
  {
   "cell_type": "code",
   "execution_count": null,
   "id": "f137d500-bb19-41f8-8785-4778c5ab1fd9",
   "metadata": {},
   "outputs": [],
   "source": []
  }
 ],
 "metadata": {
  "kernelspec": {
   "display_name": "py3.10_torch",
   "language": "python",
   "name": "py3.10_torch"
  },
  "language_info": {
   "codemirror_mode": {
    "name": "ipython",
    "version": 3
   },
   "file_extension": ".py",
   "mimetype": "text/x-python",
   "name": "python",
   "nbconvert_exporter": "python",
   "pygments_lexer": "ipython3",
   "version": "3.10.5"
  }
 },
 "nbformat": 4,
 "nbformat_minor": 5
}
